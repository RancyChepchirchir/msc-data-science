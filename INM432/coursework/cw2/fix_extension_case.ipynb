{
 "cells": [
  {
   "cell_type": "code",
   "execution_count": 29,
   "metadata": {},
   "outputs": [],
   "source": [
    "# convert coastline file extension to proper case\n",
    "# 1.vretrieve authority list\n",
    "# gsutil ls gs://tamucc_coastline/esi_images/ > image_list.txt\n",
    "\n",
    "def getExtension(imagepath):\n",
    "    imagefilepath = \"image_list.txt\"\n",
    "    imagesfile = open(imagefilepath, \"r\")\n",
    "    realExt = \"\";\n",
    "    for line in imagesfile:\n",
    "        # strip carriage return line feed from line\n",
    "        line = line.rstrip()\n",
    "        # avoid first line column headers\n",
    "        if(line[0:5] == \"gs://\"):\n",
    "            if(line.split(\".\")[0] == imagepath):\n",
    "                # print(\"Found path %s in image_list_sample.txt \" % imagepath)\n",
    "                realExt = line   \n",
    "                break\n",
    "            \n",
    "    imagesfile.close()\n",
    "    # print(imagepath)\n",
    "    return realExt\n",
    "\n",
    "def fixExtensionCase():\n",
    "    # 1. Open file with labels\n",
    "    filepath = \"train_set.csv\"\n",
    "    file = open(filepath, \"r\")\n",
    "    file_fixed = open(\"train_set_fixed.csv\",\"w+\")\n",
    "    for line in file:\n",
    "        # strip carriage return line feed from line\n",
    "        line = line.rstrip()\n",
    "        # split using comma as delimiter\n",
    "        arr = line.split(\",\")\n",
    "        # avoid first line column headers\n",
    "        if(line[0:5] == \"gs://\"): \n",
    "            realLine = getExtension(arr[0].split(\".\")[0])\n",
    "            realExt = realLine.split(\".\")[1]\n",
    "            currExt = arr[0].split(\".\")[1]\n",
    "            if(realExt == \"\"):\n",
    "                print(\"Could not find file %s in image_list.txt\" % arr[0])\n",
    "            elif(realExt == currExt):\n",
    "                #print(\"%s\" % line)\n",
    "                file_fixed.write(\"%s\\r\\n\" % line)\n",
    "            else:\n",
    "                file_fixed.write(\"%s,%s\\r\\n\" % (realLine, line.split(\",\")[1]))\n",
    "                #print(\"%s,%s\" % (realLine, line.split(\",\")[1]))\n",
    "                \n",
    "    file_fixed.close()            \n",
    "    file.close()\n",
    "    \n",
    "fixExtensionCase()            "
   ]
  },
  {
   "cell_type": "code",
   "execution_count": null,
   "metadata": {},
   "outputs": [],
   "source": []
  }
 ],
 "metadata": {
  "kernelspec": {
   "display_name": "Python 3",
   "language": "python",
   "name": "python3"
  },
  "language_info": {
   "codemirror_mode": {
    "name": "ipython",
    "version": 3
   },
   "file_extension": ".py",
   "mimetype": "text/x-python",
   "name": "python",
   "nbconvert_exporter": "python",
   "pygments_lexer": "ipython3",
   "version": "3.6.5"
  }
 },
 "nbformat": 4,
 "nbformat_minor": 2
}
