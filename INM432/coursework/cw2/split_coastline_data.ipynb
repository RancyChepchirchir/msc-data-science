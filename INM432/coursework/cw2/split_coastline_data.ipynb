{
 "cells": [
  {
   "cell_type": "code",
   "execution_count": 40,
   "metadata": {},
   "outputs": [],
   "source": [
    "# Coastline data - munge data to fit into flowers tensorflow example model i.e.\n",
    "# split into eval_set.csv (10%) and train_set.csv(90%)\n",
    "# NB Example runs Python 2.7 so any uncommented print debugs will not work\n",
    "\n",
    "def splitCoastlineData(filepath):\n",
    "    # expected format:\n",
    "    # gs://tamucc_coastline/esi_images/IMG_3059_SecDE_Spr12.jpg,9,Sheltered tidal flats\n",
    "    import numpy as np\n",
    "    # initialise empty work array\n",
    "    filearr = np.empty((0,2), dtype='uint8') \n",
    "    # open file\n",
    "    file = open(filepath, \"r\")\n",
    "    for line in file:\n",
    "        # strip carriage return line feed from line\n",
    "        line = line.rstrip()\n",
    "        # split using comma as delimiter\n",
    "        arr = line.split(\",\")\n",
    "        # avoid first line column headers\n",
    "        if(line[0:5] == \"gs://\"):\n",
    "            #print(\"loc: %s, label: %s\" % (arr[0], arr[1]))\n",
    "            # append to work array\n",
    "            filearr = np.append(filearr, [[arr[0],arr[1]]],axis = 0)\n",
    "    # close file - good practice\n",
    "    file.close()\n",
    "    # array bounds\n",
    "    lower_bound = 0\n",
    "    upper_bound = filearr[0:,0].size;\n",
    "    sample_size = int(upper_bound * 0.1) # 10% holdout\n",
    "    #print(\"Eval set size:\", sample_size)\n",
    "    # NB array is zero indexed and randint generates random numbers from lower bound inclusive\n",
    "    # to upper bound exclusive\n",
    "    eval_set_idx = np.random.randint(lower_bound, upper_bound, sample_size, dtype='int')\n",
    "    #print(eval_set_idx) # indexes for our evaluation set\n",
    "    # open files\n",
    "    eval_file = open(\"eval_set.csv\",\"w+\")\n",
    "    train_file = open(\"train_set.csv\",\"w+\")    \n",
    "    for i in range(upper_bound):\n",
    "        csv_line = filearr[i,0] + ',' + filearr[i,1]\n",
    "        if i in (eval_set_idx):\n",
    "            # append to eval_set.csv\n",
    "            eval_file.write(\"%s\\r\\n\" % csv_line)    \n",
    "        else: # 90% of indexes not in eval index set get appended to training set \n",
    "            # append to train_set.csv\n",
    "            train_file.write(\"%s\\r\\n\" % csv_line)            \n",
    "    # close files - now we have a training and evaluation set (holdout) and can get\n",
    "    # back to our coastline tensorflow code\n",
    "    eval_file.close()\n",
    "    train_file.close()"
   ]
  },
  {
   "cell_type": "code",
   "execution_count": 41,
   "metadata": {},
   "outputs": [],
   "source": [
    "splitCoastlineData(\"labeled_images.csv\")"
   ]
  },
  {
   "cell_type": "code",
   "execution_count": null,
   "metadata": {},
   "outputs": [],
   "source": []
  }
 ],
 "metadata": {
  "kernelspec": {
   "display_name": "Python 3",
   "language": "python",
   "name": "python3"
  },
  "language_info": {
   "codemirror_mode": {
    "name": "ipython",
    "version": 3
   },
   "file_extension": ".py",
   "mimetype": "text/x-python",
   "name": "python",
   "nbconvert_exporter": "python",
   "pygments_lexer": "ipython3",
   "version": "3.6.5"
  }
 },
 "nbformat": 4,
 "nbformat_minor": 2
}
