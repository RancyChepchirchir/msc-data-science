{
 "cells": [
  {
   "cell_type": "markdown",
   "metadata": {},
   "source": [
    "# Exploratory Data Analysis - OAC 2011 (Output Area Classification)\n",
    "Based on UK Census 2011\n",
    "https://github.com/geogale/2011OAC"
   ]
  },
  {
   "cell_type": "code",
   "execution_count": 59,
   "metadata": {},
   "outputs": [
    {
     "name": "stdout",
     "output_type": "stream",
     "text": [
      "PpolyID\n",
      "OA\n",
      "x\n",
      "y\n",
      "Local Authority\n",
      "Supergroup\n",
      "SuperGroupUncert\n",
      "SuperGroup1Uncert\n",
      "SuperGroup2Uncert\n",
      "SuperGroup3Uncert\n",
      "SuperGroup4Uncert\n",
      "SuperGroup5Uncert\n",
      "SuperGroup6Uncert\n",
      "SuperGroup7Uncert\n",
      "SuperGroup8Uncert\n",
      "Total Population\n",
      "Total Number of Households\n",
      "Total Dwellings\n",
      "Total Household Spaces\n",
      "Total Population aged 16 and over\n",
      "Total Population aged 16 to 74\n",
      "Total Population aged 16 to 74 who are not students in Northern Ireland\n",
      "Total Persons Employed aged 16 to 74\n",
      "Total Population living in Households aged 16 and over\n",
      "Total Population aged 3 and over\n",
      "Persons aged 0 to 4\n",
      "Persons aged 5 to 14\n",
      "Persons aged 25 to 44\n",
      "Persons aged 45 to 64\n",
      "Persons aged 65 to 89\n",
      "Persons aged 90 and over\n",
      "Number of persons per hectare\n",
      "Persons living in a communal establishment\n",
      "Persons aged over 16 who are single\n",
      "Persons aged over 16 who are married or in a registered same-sex civil partnership\n",
      "Persons aged over 16 who are divorced or separated\n",
      "Persons who are white\n",
      "Persons who have mixed ethnicity or are from multiple ethnic groups\n",
      "Persons who are Asian/Asian British: Indian\n",
      "Persons who are Asian/Asian British: Pakistani\n",
      "Persons who are Asian/Asian British: Bangladeshi\n",
      "Persons who are Asian/Asian British: Chinese and Other\n",
      "Persons who are Black/African/Caribbean/Black British\n",
      "Persons who are Arab or from other ethnic groups\n",
      "Persons whose country of birth is the United Kingdom or Ireland\n",
      "Persons whose country of birth is in the old EU (pre 2004 accession countries)\n",
      "Persons whose country of birth is in the new EU (post 2004 accession countries)\n",
      "Main language is not English and cannot speak English well or at all\n",
      "Households with no children\n",
      "Households with non-dependant children\n",
      "Households with full-time students\n",
      "Households who live in a detached house or bungalow\n",
      "Households who live in a semi-detached house or bungalow\n",
      "Households who live in a terrace or end-terrace house\n",
      "Households who live in a flat\n",
      "Households who own or have shared ownership of property\n",
      "Households who are private renting\n",
      "Households who are social renting\n",
      "Occupancy room rating -1 or less\n",
      "Individuals day-to-day activities limited a lot or a little (Standardised Illness Ratio)\n",
      "Persons providing unpaid care\n",
      "Persons aged over 16 whose highest level of qualification is Level 1; Level 2 or Apprenticeship\n",
      "Persons aged over 16 whose highest level of qualification is Level 3 qualifications\n",
      "Persons aged over 16 whose highest level of qualification is Level 4 qualifications and above\n",
      "Persons aged over 16 who are schoolchildren or full-time students\n",
      "Households with two or more cars or vans\n",
      "Persons aged between 16 and 74 who use public transport to get to work\n",
      "Persons aged between 16 and 74 who use private transport to get to work\n",
      "Persons aged between 16 and 74 who walk; cycle or use an alternative method to get to work\n",
      "Persons aged between 16 and 74 who are unemployed\n",
      "Employed persons aged between 16 and 74 who work part-time\n",
      "Employed persons aged between 16 and 74 who work full-time\n",
      "Employed persons aged between 16 and 74 who work in the agriculture; forestry or fishing industries\n",
      "Employed persons aged between 16 and 74 who work in the mining; quarrying or construction industries\n",
      "Employed persons aged between 16 and 74 who work in the manufacturing industry\n",
      "Employed persons aged between 16 and 74 who work in the energy; water or air conditioning supply industries\n",
      "Employed persons aged between 16 and 74 who work in the wholesale and retail trade; repair of motor vehicles and motor cycles industries\n",
      "Employed persons aged between 16 and 74 who work in the transport or storage industries\n",
      "Employed persons aged between 16 and 74 who work in the accommodation or food service activities industries\n",
      "Employed persons aged between 16 and 74 who work in the information and communication or professional; scientific and technical activities industries\n",
      "Employed persons aged between 16 and 74 who work in the financial; insurance or real estate industries\n",
      "Employed persons aged between 16 and 74 who work in the administrative or support service activities industries\n",
      "Employed persons aged between 16 and 74 who work in the in public administration or defence; compulsory social security industries\n",
      "Employed persons aged between 16 and 74 who work in the education sector\n",
      "Employed persons aged between 16 and 74 who work in the human health and social work activities industries\n"
     ]
    }
   ],
   "source": [
    "# Load data - copied to script folder\n",
    "import pandas as pd\n",
    "import numpy as np\n",
    "# NB oac2011_london_mondrian.csv as a string value (oac2011_london_mondrian.map) in columns\n",
    "# /PpolyID, which confuses pandas on choosing column datatypes, to get around this warning,\n",
    "# string oac2011_london_mondrian.map is removed and file saved as oac2011_london.csv\n",
    "# oac2011_london_mondrian.csv\n",
    "tb = pd.read_csv(\"oac2011_london.csv\")\n",
    "# build data types \n",
    "dt = list(tb)\n",
    "for headers in dt:\n",
    "    print(headers)\n",
    "\n",
    "\n"
   ]
  },
  {
   "cell_type": "code",
   "execution_count": 133,
   "metadata": {
    "scrolled": true
   },
   "outputs": [
    {
     "data": {
      "text/plain": [
       "<BarContainer object of 8 artists>"
      ]
     },
     "execution_count": 133,
     "metadata": {},
     "output_type": "execute_result"
    },
    {
     "data": {
      "image/png": "[encoded data removed]",
      "text/plain": [
       "<Figure size 432x288 with 1 Axes>"
      ]
     },
     "metadata": {},
     "output_type": "display_data"
    }
   ],
   "source": [
    "import matplotlib.pyplot as plt\n",
    "#mywidth = tb.loc[tb['Supergroup'].idxmax()]\n",
    "sizes = tb.groupby(['Supergroup']).size()\n",
    "#sizes.iloc[:,0:7]\n",
    "#sizes.index\n",
    "#sizes.values\n",
    "\n",
    "#sizes[1]\n",
    "plt.barh(sizes.index, sizes.values, log=True)"
   ]
  },
  {
   "cell_type": "code",
   "execution_count": null,
   "metadata": {},
   "outputs": [],
   "source": []
  }
 ],
 "metadata": {
  "kernelspec": {
   "display_name": "Python 3",
   "language": "python",
   "name": "python3"
  },
  "language_info": {
   "codemirror_mode": {
    "name": "ipython",
    "version": 3
   },
   "file_extension": ".py",
   "mimetype": "text/x-python",
   "name": "python",
   "nbconvert_exporter": "python",
   "pygments_lexer": "ipython3",
   "version": "3.6.5"
  }
 },
 "nbformat": 4,
 "nbformat_minor": 2
}
