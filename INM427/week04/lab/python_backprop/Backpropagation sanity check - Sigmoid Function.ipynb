{
 "cells": [
  {
   "cell_type": "code",
   "execution_count": 1,
   "metadata": {},
   "outputs": [
    {
     "ename": "IndentationError",
     "evalue": "expected an indented block (<ipython-input-1-ace41119ecde>, line 23)",
     "output_type": "error",
     "traceback": [
      "\u001b[1;36m  File \u001b[1;32m\"<ipython-input-1-ace41119ecde>\"\u001b[1;36m, line \u001b[1;32m23\u001b[0m\n\u001b[1;33m    def _forward_prop(self, x):\u001b[0m\n\u001b[1;37m      ^\u001b[0m\n\u001b[1;31mIndentationError\u001b[0m\u001b[1;31m:\u001b[0m expected an indented block\n"
     ]
    }
   ],
   "source": [
    "# As implemented in Python Deep Learning, Zocca et al \n",
    "# https://raw.githubusercontent.com/PacktPublishing/Python-Deep-Learning/master/Chapter%2002/Ch2Example.py\n",
    "# via \n",
    "# https://chih-ling-hsu.github.io/2017/08/30/NN-XOR\n",
    "\n",
    "class NeuralNetwork:\n",
    "\n",
    "    #########\n",
    "    # parameters\n",
    "    # ----------\n",
    "    # self:      the class object itself\n",
    "    # net_arch:  consists of a list of integers, indicating\n",
    "    #            the number of neurons in each layer, \n",
    "    #            i.e. [2,2,1] (two neurons for the input layer, \n",
    "    #                          two neurons for the first and the only hidden layer, \n",
    "    #                          and one neuron for the output layer)\n",
    "    #########\n",
    "    def __init__(self, net_arch):\n",
    "        # Initialized the weights, making sure we also initialize the weights\n",
    "        # for the biases that we will add later.\n",
    "        # Afterwards, we do random initialization with range of weight values (-1,1)\n",
    "\n",
    "    def _forward_prop(self, x):\n",
    "        # feed-forward\n",
    "    \n",
    "    def _back_prop(self, y, target, learning_rate):\n",
    "        # adjust the weights using the backpropagation rules\n",
    "\n",
    "    #########\n",
    "    # parameters\n",
    "    # ----------\n",
    "    # self:    the class object itself\n",
    "    # data:    the set of all possible pairs of booleans True or False indicated by \n",
    "    #          the integers 1 or 0\n",
    "    # labels:  the result of the logical operation 'xor' on each of those input pairs\n",
    "    #########\n",
    "    def fit(self, X, labels, learning_rate=0.1, epochs=100):\n",
    "        # Add bias units to the input layer\n",
    "        for k in range(epochs):\n",
    "            # Set up our feed-forward propagation\n",
    "            # And then do our back-propagation of the error to adjust the weights\n",
    "\n",
    "    #########\n",
    "    # parameters\n",
    "    # ----------\n",
    "    # self:   the class object itself\n",
    "    # X:      the input data array\n",
    "    #########\n",
    "    def predict(self, X):\n",
    "        # Do prediction with the given data X and the pre-trained weights\n",
    "        # Random initialization with range of weight values (-1,1)\n",
    "        self.weights = []\n",
    "        for layer in range(self.layers - 1):\n",
    "            w = 2*numpy.random.rand(net_arch[layer] + 1, net_arch[layer+1]) - 1\n",
    "            self.weights.append(w)\n",
    "        for k in range(epochs):\n",
    "            sample = numpy.random.randint(X.shape[0])\n",
    "\n",
    "            # We will now go ahead and set up our feed-forward propagation:\n",
    "            x = [Z[sample]]\n",
    "            y = self._forward_prop(x)\n",
    "\n",
    "            # Now we do our back-propagation of the error to adjust the weights:\n",
    "            target = labels[sample]\n",
    "            self._back_prop(y, target, learning_rate) \n",
    "            delta_vec = [(target - y[-1]) * self.activity_derivative(y[-1])]\n",
    "        # we need to begin from the back, from the next to last layer\n",
    "        for j in range(self.layers-2, 0, -1):\n",
    "            error = delta_vec[-1].dot(self.weights[j][1:].T)   # Line 3\n",
    "            error = error*self.activity_derivative(y[j][1:])   # Line 4\n",
    "            delta_vec.append(error)\n",
    "\n",
    "            # Now we need to set the values from back to front\n",
    "            delta_vec.reverse()\n",
    "            # Finally, we adjust the weights, using the backpropagation rules\n",
    "        for j in range(len(self.weights)):\n",
    "            layer = y[j].reshape(1, nn.arch[j]+1)\n",
    "            delta = delta_vec[j].reshape(1, nn.arch[j+1])\n",
    "            self.weights[j] += learning_rate*layer.T.dot(delta)"
   ]
  },
  {
   "cell_type": "code",
   "execution_count": 10,
   "metadata": {},
   "outputs": [
    {
     "name": "stdout",
     "output_type": "stream",
     "text": [
      "Final prediction after 3200 epochs - hyperbolic tangent activation function\n",
      "i1 i2 t o\n",
      "[0 0] 0 0.005303951382860608\n",
      "[0 1] 1 0.9712935737946203\n",
      "[1 0] 1 0.9687222281833928\n",
      "[1 1] 0 0.00018983081586937937\n",
      "Weights:\n",
      "[array([[ 1.93345005, -0.58051179],\n",
      "       [-1.32209046,  1.45840748],\n",
      "       [-1.30544105,  1.47097214]]), array([[-1.0012255 ],\n",
      "       [ 2.40956478],\n",
      "       [ 2.49364711]])]\n"
     ]
    },
    {
     "data": {
      "image/png": "[encoded data removed]",
      "text/plain": [
       "<Figure size 432x288 with 1 Axes>"
      ]
     },
     "metadata": {},
     "output_type": "display_data"
    }
   ],
   "source": [
    "# tanh\n",
    "numpy.random.seed(0)\n",
    "\n",
    "# Initialize the NeuralNetwork with\n",
    "# 2 input neurons\n",
    "# 2 hidden neurons\n",
    "# 1 output neuron\n",
    "nn = NeuralNetwork([2,2,1])\n",
    "\n",
    "# Set the input data\n",
    "X = numpy.array([[0, 0], [0, 1],\n",
    "                [1, 0], [1, 1]])\n",
    "\n",
    "# Set the labels, the correct results for the xor operation\n",
    "y = numpy.array([0, 1, \n",
    "                 1, 0])\n",
    "\n",
    "# Call the fit function and train the network for a chosen number of epochs\n",
    "nn.fit(X, y, epochs=3200)\n",
    "\n",
    "# Show the prediction results\n",
    "print(\"Final prediction after 3200 epochs - hyperbolic tangent activation function\")\n",
    "print(\"i1 i2 t o\")\n",
    "\n",
    "i = 0;\n",
    "for s in X:\n",
    "    print(s, y[i], nn.predict_single_data(s))\n",
    "    i = i + 1;\n",
    "    \n",
    "print(\"Weights:\")\n",
    "# Six weights and 3 biases\n",
    "print(nn.weights)\n",
    "plot_decision_regions(X, y, nn)\n",
    "plt.xlabel('x-axis')\n",
    "plt.ylabel('y-axis')\n",
    "plt.legend(loc='upper left')\n",
    "plt.tight_layout()\n",
    "plt.show()"
   ]
  },
  {
   "cell_type": "code",
   "execution_count": 11,
   "metadata": {},
   "outputs": [
    {
     "name": "stdout",
     "output_type": "stream",
     "text": [
      "Final prediction after 3200 epochs - sigmoid activation function\n",
      "i1 i2 t o\n",
      "[0 0] 0 0.4438916683100509\n",
      "[0 1] 1 0.44415672273816875\n",
      "[1 0] 1 0.44549996880162235\n",
      "[1 1] 0 0.44572904848579287\n",
      "Weights:\n",
      "[array([[-0.04357067,  0.30357643],\n",
      "       [ 0.04757573,  0.00965158],\n",
      "       [-0.24384052,  0.22674735]]), array([[-0.7402448 ],\n",
      "       [ 0.44535711],\n",
      "       [ 0.51629667]])]\n"
     ]
    },
    {
     "data": {
      "image/png": "[encoded data removed]",
      "text/plain": [
       "<Figure size 432x288 with 1 Axes>"
      ]
     },
     "metadata": {},
     "output_type": "display_data"
    }
   ],
   "source": [
    "# sigmoid\n",
    "numpy.random.seed(0)\n",
    "\n",
    "# Initialize the NeuralNetwork with\n",
    "# 2 input neurons\n",
    "# 2 hidden neurons\n",
    "# 1 output neuron\n",
    "nn = NeuralNetwork([2,2,1], 's')\n",
    "\n",
    "# Set the input data\n",
    "X = numpy.array([[0, 0], [0, 1],\n",
    "                [1, 0], [1, 1]])\n",
    "\n",
    "# Set the labels, the correct results for the xor operation\n",
    "y = numpy.array([0, 1, \n",
    "                 1, 0])\n",
    "\n",
    "# Call the fit function and train the network for a chosen number of epochs\n",
    "nn.fit(X, y, epochs=3200)\n",
    "\n",
    "# Show the prediction results\n",
    "print(\"Final prediction after 3200 epochs - sigmoid activation function\")\n",
    "print(\"i1 i2 t o\")\n",
    "\n",
    "i = 0;\n",
    "for s in X:\n",
    "    print(s, y[i], nn.predict_single_data(s))\n",
    "    i = i + 1;\n",
    "    \n",
    "print(\"Weights:\")\n",
    "# Six weights and 3 biases\n",
    "print(nn.weights)\n",
    "plot_decision_regions(X, y, nn)\n",
    "plt.xlabel('x-axis')\n",
    "plt.ylabel('y-axis')\n",
    "plt.legend(loc='upper left')\n",
    "plt.tight_layout()\n",
    "plt.show()"
   ]
  },
  {
   "cell_type": "code",
   "execution_count": null,
   "metadata": {},
   "outputs": [],
   "source": []
  }
 ],
 "metadata": {
  "kernelspec": {
   "display_name": "Python 3",
   "language": "python",
   "name": "python3"
  },
  "language_info": {
   "codemirror_mode": {
    "name": "ipython",
    "version": 3
   },
   "file_extension": ".py",
   "mimetype": "text/x-python",
   "name": "python",
   "nbconvert_exporter": "python",
   "pygments_lexer": "ipython3",
   "version": "3.6.5"
  }
 },
 "nbformat": 4,
 "nbformat_minor": 2
}
