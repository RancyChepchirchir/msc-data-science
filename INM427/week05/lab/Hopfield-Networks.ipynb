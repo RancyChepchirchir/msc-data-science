{
 "cells": [
  {
   "cell_type": "markdown",
   "metadata": {},
   "source": [
    "**Week 5 Hebb's rule**  \n",
    "  \n",
    "Hopfield networks implement Hebb's rule TBC \n",
    "\n",
    "**Activation funtion sign**  \n",
    "At each time t, each neuron i has activation $A_{i}(t) = 1\\: or\\: -1$  \n",
    "  \n",
    "Selecting neuron $i$ to calculate its new activation value at $t+1:$  \n",
    "  \n",
    "$ A_{i}(t+1)= sign\\Bigg(\\sum_{i}W_{ij}A_{j}(t)\\Bigg) $  \n",
    "  \n",
    "Where:  \n",
    "  \n",
    "$ sign (x) = 1 \\: if \\: x > 0 $  \n",
    "    \n",
    "$ sign (x) = -1 \\: if \\: x < 0  $  \n",
    "    \n",
    "$ sign (x) = 0 \\: if \\: x = 0  $    \n",
    "  \n",
    "**Hopfield Network as Associative Memory**  \n",
    "  \n",
    "* Storage phase  \n",
    "To store M N-dimensional vectors $\\xi_{\\mu} $  \n",
    "Let $ \\xi_{i} $ denote the $i-th$ element of $\\xi_{\\mu}$  \n",
    "  \n",
    "$ W_{ij}=\\frac{1}{N} \\sum_{\\mu=1}^{M}\\big(\\xi_{\\mu j} \\cdot \\xi_{\\mu i} \\big)$\n",
    "  \n",
    "**Hopfield Energy Function**  \n",
    "  \n",
    "$ E = -\\frac{1}{2}\\sum_{i=1}^{N}\\sum_{j=1}^{N}(W_{ji} \\cdot A_{i} \\cdot A_{j}), \\: i \\neq j $  \n",
    "  \n",
    "\n"
   ]
  },
  {
   "cell_type": "code",
   "execution_count": 4,
   "metadata": {},
   "outputs": [
    {
     "name": "stdout",
     "output_type": "stream",
     "text": [
      "<class 'list'>\n"
     ]
    }
   ],
   "source": [
    "import numpy as np\n",
    "# hashing function python example\n",
    "a = [1, -1, 1]\n",
    "# datatype\n",
    "print(type(a))\n"
   ]
  },
  {
   "cell_type": "code",
   "execution_count": 10,
   "metadata": {},
   "outputs": [
    {
     "name": "stdout",
     "output_type": "stream",
     "text": [
      "b'\\x1d\\xb7\\x10d'\n"
     ]
    },
    {
     "data": {
      "text/plain": [
       "'11101101101110001000001100100'"
      ]
     },
     "execution_count": 10,
     "metadata": {},
     "output_type": "execute_result"
    }
   ],
   "source": [
    "import binascii\n",
    "\n",
    "bin(int(\"1db71064\", 16))[2:]"
   ]
  }
 ],
 "metadata": {
  "kernelspec": {
   "display_name": "Python 3",
   "language": "python",
   "name": "python3"
  },
  "language_info": {
   "codemirror_mode": {
    "name": "ipython",
    "version": 3
   },
   "file_extension": ".py",
   "mimetype": "text/x-python",
   "name": "python",
   "nbconvert_exporter": "python",
   "pygments_lexer": "ipython3",
   "version": "3.6.5"
  }
 },
 "nbformat": 4,
 "nbformat_minor": 2
}
