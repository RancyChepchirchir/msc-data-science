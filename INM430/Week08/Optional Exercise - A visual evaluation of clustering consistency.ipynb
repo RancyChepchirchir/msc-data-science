{
 "cells": [
  {
   "cell_type": "markdown",
   "metadata": {},
   "source": [
    "# Assessing clustering stability visually\n",
    "\n",
    "As you have experienced in your practical tutorial last week, investigating the overlaps of clustering results is never straightforward. Here is an additional and optional exercise for those of you who would like to develop a mini solution to visual cluster assessment.\n",
    "\n",
    "The idea is to use a Sankey diagram as a visual aid to investigate how clusters are overlapping. This approach is used in the Caleydo Matchmaker tool that we looked at in class http://caleydo.org/publications/2010_infovis_matchmaker/\n",
    "\n",
    "The example below uses the Sankey diagram from the plotly package. The idea is to construct a flow from two clustering results to find the overlap between clusters and quantify the overlap first. Once this is done, the data could be fed into the Sankey diagram example as below.\n",
    "\n",
    "For details, have a look here: https://plot.ly/python/sankey-diagram/"
   ]
  },
  {
   "cell_type": "code",
   "execution_count": 3,
   "metadata": {},
   "outputs": [],
   "source": [
    "import plotly\n",
    "# You will need to get a username and an API key from https://plot.ly and replace the below here!\n",
    "plotly.tools.set_credentials_file(username='dsikar', api_key='h29EDZcp4orwEkhpsBHx')"
   ]
  },
  {
   "cell_type": "code",
   "execution_count": 4,
   "metadata": {},
   "outputs": [
    {
     "name": "stdout",
     "output_type": "stream",
     "text": [
      "High five! You successfully sent some data to your account on plotly. View your plot in your browser at https://plot.ly/~dsikar/0 or inside your plot.ly account where it is named 'plot from API'\n"
     ]
    },
    {
     "data": {
      "text/html": [
       "<iframe id=\"igraph\" scrolling=\"no\" style=\"border:none;\" seamless=\"seamless\" src=\"https://plot.ly/~dsikar/0.embed\" height=\"525px\" width=\"100%\"></iframe>"
      ],
      "text/plain": [
       "<plotly.tools.PlotlyDisplay object>"
      ]
     },
     "execution_count": 4,
     "metadata": {},
     "output_type": "execute_result"
    }
   ],
   "source": [
    "\n",
    "import plotly.plotly as py\n",
    "data = dict(\n",
    "    type='sankey',\n",
    "    node = dict(\n",
    "      pad = 15,\n",
    "      thickness = 20,\n",
    "      line = dict(\n",
    "        color = \"black\",\n",
    "        width = 0.5\n",
    "      ),\n",
    "      label = [\"A1\", \"A2\", \"B1\", \"B2\", \"C1\", \"C2\"],\n",
    "      color = [\"blue\", \"blue\", \"blue\", \"blue\", \"blue\", \"blue\"]\n",
    "    ),\n",
    "    link = dict(\n",
    "      source = [0,1,0,2,3,3],\n",
    "      target = [2,3,3,4,4,5],\n",
    "      value = [8,4,2,8,4,2]\n",
    "  ))\n",
    "\n",
    "layout =  dict(\n",
    "    title = \"Basic Sankey Diagram\",\n",
    "    font = dict(\n",
    "      size = 10\n",
    "    )\n",
    ")\n",
    "\n",
    "fig = dict(data=[data], layout=layout)\n",
    "py.iplot(fig, validate=False)"
   ]
  },
  {
   "cell_type": "markdown",
   "metadata": {},
   "source": [
    "## Constructing flow between clustering results\n",
    "OK, now you've seen a Sankey diagram working. The key task now is to get the data bit filled in with data from two (or more) clustering results:\n",
    "....\n",
    "```\n",
    "      label = [\"A1\", \"A2\", \"B1\", \"B2\", \"C1\", \"C2\"],\n",
    "      color = [\"blue\", \"blue\", \"blue\", \"blue\", \"blue\", \"blue\"]\n",
    "    ),\n",
    "    link = dict(\n",
    "      source = [0,1,0,2,3,3],\n",
    "      target = [2,3,3,4,4,5],\n",
    "      value = [8,4,2,8,4,2]\n",
    "  )\n",
    "```\n",
    "  .....\n",
    "  \n",
    "What you need to do is to look at clusters from one clustering run, let's say  C_1, C_2 and C_3 and a second run C_4, C_5, C_6, C_7. And find the overlap between the two sets `[C_1, C_2 and C_3]` and `[C_4, C_5 and C_6]` and construct these source, target and value triplets. You can also imagine that one of these \"clusterings\" could be the ground truth labels if you have them.\n",
    "\n",
    "In finding the overlaps, differences between the different clusters, Numpy set operations can be very handy: https://docs.scipy.org/doc/numpy-1.15.1/reference/routines.set.html\n",
    "\n",
    "OK, here you go. Start from the clustering example on Week-07 and try to build these flows after running your clustering a few times, maybe with different k values or algorithms and compare them. Here was the code for last week: https://moodle.city.ac.uk/mod/page/view.php?id=1174283\n",
    "  "
   ]
  }
 ],
 "metadata": {
  "kernelspec": {
   "display_name": "Python 3",
   "language": "python",
   "name": "python3"
  },
  "language_info": {
   "codemirror_mode": {
    "name": "ipython",
    "version": 3
   },
   "file_extension": ".py",
   "mimetype": "text/x-python",
   "name": "python",
   "nbconvert_exporter": "python",
   "pygments_lexer": "ipython3",
   "version": "3.6.5"
  }
 },
 "nbformat": 4,
 "nbformat_minor": 2
}
