{
 "cells": [
  {
   "cell_type": "code",
   "execution_count": 1,
   "metadata": {},
   "outputs": [],
   "source": [
    "# Building residual vectors exercises\n",
    "# Exercise 1:\n",
    "# Given a collection of predictors X (matrix/multidimentional array of observations/rows and attributes/columns),\n",
    "# find the maximum absolute correlation with the response vector y"
   ]
  },
  {
   "cell_type": "code",
   "execution_count": 33,
   "metadata": {},
   "outputs": [
    {
     "name": "stdout",
     "output_type": "stream",
     "text": [
      "ddata.shape =  (442, 11)\n",
      "type(ddata) =  <class 'numpy.ndarray'>\n",
      "dheaders.shape =  (11,)\n",
      "type(dheaders) =  <class 'numpy.ndarray'>\n"
     ]
    }
   ],
   "source": [
    "# 1.1 Load the data\n",
    "# We'll use pandas to load the data\n",
    "import numpy as np\n",
    "ddata = np.loadtxt(\"diabetes.tab.txt\", delimiter=\"\\t\")\n",
    "dheaders = np.loadtxt(\"diabetes-headers.tab.txt\", dtype='str', delimiter=\"\\t\")\n",
    "print(\"ddata.shape = \", ddata.shape)\n",
    "print(\"type(ddata) = \", type(ddata))\n",
    "print(\"dheaders.shape = \", dheaders.shape)\n",
    "print(\"type(dheaders) = \", type(dheaders))"
   ]
  },
  {
   "cell_type": "code",
   "execution_count": 3,
   "metadata": {},
   "outputs": [
    {
     "data": {
      "text/plain": [
       "str"
      ]
     },
     "execution_count": 3,
     "metadata": {},
     "output_type": "execute_result"
    }
   ],
   "source": [
    "# find the data type column headers will be cast to (applied retroactively)\n",
    "type(\"stuff\")"
   ]
  },
  {
   "cell_type": "code",
   "execution_count": 27,
   "metadata": {},
   "outputs": [
    {
     "name": "stdout",
     "output_type": "stream",
     "text": [
      "['AGE' 'SEX' 'BMI' 'BP' 'S1' 'S2' 'S3' 'S4' 'S5' 'S6' 'Y']\n"
     ]
    }
   ],
   "source": [
    "# show all column headers i.e. first row, all columns\n",
    "print(dheaders[0:])"
   ]
  },
  {
   "cell_type": "code",
   "execution_count": 138,
   "metadata": {},
   "outputs": [
    {
     "data": {
      "text/plain": [
       "array([59., 48., 72., 24., 50., 23., 36., 66., 60., 29., 22., 56., 53.,\n",
       "       50., 61., 34., 47., 68., 38., 41., 35., 25., 25., 61., 31., 30.,\n",
       "       19., 42., 63., 67., 32., 42., 58., 57., 53., 62., 52., 46., 48.,\n",
       "       48., 50., 21., 32., 54., 61., 56., 33., 27., 67., 37., 58., 65.,\n",
       "       34., 46., 35., 37., 37., 41., 60., 66., 29., 37., 41., 39., 67.,\n",
       "       36., 46., 60., 59., 53., 48., 48., 66., 52., 52., 46., 40., 22.,\n",
       "       50., 20., 68., 52., 44., 38., 49., 61., 29., 61., 34., 36., 52.,\n",
       "       61., 43., 35., 27., 29., 64., 41., 49., 48., 53., 53., 23., 65.,\n",
       "       41., 55., 22., 56., 54., 59., 60., 54., 25., 54., 55., 40., 62.,\n",
       "       65., 33., 53., 35., 66., 62., 50., 47., 47., 24., 58., 34., 51.,\n",
       "       31., 22., 53., 37., 28., 47., 23., 50., 58., 55., 60., 41., 60.,\n",
       "       40., 57., 37., 40., 33., 32., 35., 55., 49., 39., 60., 67., 41.,\n",
       "       44., 48., 45., 47., 46., 36., 34., 53., 61., 37., 33., 68., 49.,\n",
       "       48., 55., 43., 60., 31., 53., 67., 61., 62., 60., 42., 38., 62.,\n",
       "       61., 61., 53., 28., 26., 30., 50., 48., 51., 47., 64., 51., 30.,\n",
       "       56., 42., 62., 34., 60., 64., 39., 71., 48., 79., 40., 49., 51.,\n",
       "       57., 59., 51., 74., 67., 49., 57., 56., 52., 69., 37., 24., 55.,\n",
       "       36., 42., 21., 41., 57., 20., 67., 34., 41., 38., 51., 52., 67.,\n",
       "       61., 67., 56., 64., 58., 55., 62., 57., 20., 53., 32., 41., 60.,\n",
       "       26., 37., 45., 67., 34., 50., 71., 57., 49., 35., 41., 70., 52.,\n",
       "       60., 62., 44., 28., 58., 39., 34., 65., 66., 51., 50., 59., 52.,\n",
       "       69., 53., 47., 52., 39., 67., 59., 51., 23., 68., 44., 60., 52.,\n",
       "       38., 61., 68., 28., 65., 69., 51., 29., 55., 34., 67., 49., 55.,\n",
       "       59., 53., 48., 52., 69., 60., 46., 51., 67., 49., 46., 47., 75.,\n",
       "       28., 65., 42., 51., 53., 54., 73., 54., 42., 75., 55., 68., 57.,\n",
       "       48., 61., 69., 38., 45., 51., 71., 57., 56., 32., 50., 43., 54.,\n",
       "       31., 56., 44., 57., 64., 43., 19., 71., 50., 59., 57., 49., 41.,\n",
       "       25., 52., 34., 42., 28., 47., 32., 43., 59., 53., 60., 54., 35.,\n",
       "       49., 58., 36., 46., 44., 46., 54., 63., 41., 28., 19., 61., 48.,\n",
       "       54., 53., 48., 53., 29., 62., 50., 58., 55., 54., 36., 63., 47.,\n",
       "       51., 42., 37., 28., 58., 32., 25., 63., 52., 65., 42., 53., 79.,\n",
       "       43., 44., 62., 33., 56., 66., 34., 46., 50., 69., 34., 71., 47.,\n",
       "       41., 34., 51., 43., 55., 59., 27., 51., 49., 27., 57., 39., 62.,\n",
       "       37., 46., 68., 51., 41., 53., 45., 33., 60., 47., 60., 36., 36.])"
      ]
     },
     "execution_count": 138,
     "metadata": {},
     "output_type": "execute_result"
    }
   ],
   "source": [
    "# have a look at column index 0 (age) i.e. all rows of column index 0\n",
    "ddata[:,0]"
   ]
  },
  {
   "cell_type": "code",
   "execution_count": 36,
   "metadata": {},
   "outputs": [
    {
     "data": {
      "text/plain": [
       "array([151.,  75., 141., 206., 135.,  97., 138.,  63., 110., 310., 101.,\n",
       "        69., 179., 185., 118., 171., 166., 144.,  97., 168.,  68.,  49.,\n",
       "        68., 245., 184., 202., 137.,  85., 131., 283., 129.,  59., 341.,\n",
       "        87.,  65., 102., 265., 276., 252.,  90., 100.,  55.,  61.,  92.,\n",
       "       259.,  53., 190., 142.,  75., 142., 155., 225.,  59., 104., 182.,\n",
       "       128.,  52.,  37., 170., 170.,  61., 144.,  52., 128.,  71., 163.,\n",
       "       150.,  97., 160., 178.,  48., 270., 202., 111.,  85.,  42., 170.,\n",
       "       200., 252., 113., 143.,  51.,  52., 210.,  65., 141.,  55., 134.,\n",
       "        42., 111.,  98., 164.,  48.,  96.,  90., 162., 150., 279.,  92.,\n",
       "        83., 128., 102., 302., 198.,  95.,  53., 134., 144., 232.,  81.,\n",
       "       104.,  59., 246., 297., 258., 229., 275., 281., 179., 200., 200.,\n",
       "       173., 180.,  84., 121., 161.,  99., 109., 115., 268., 274., 158.,\n",
       "       107.,  83., 103., 272.,  85., 280., 336., 281., 118., 317., 235.,\n",
       "        60., 174., 259., 178., 128.,  96., 126., 288.,  88., 292.,  71.,\n",
       "       197., 186.,  25.,  84.,  96., 195.,  53., 217., 172., 131., 214.,\n",
       "        59.,  70., 220., 268., 152.,  47.,  74., 295., 101., 151., 127.,\n",
       "       237., 225.,  81., 151., 107.,  64., 138., 185., 265., 101., 137.,\n",
       "       143., 141.,  79., 292., 178.,  91., 116.,  86., 122.,  72., 129.,\n",
       "       142.,  90., 158.,  39., 196., 222., 277.,  99., 196., 202., 155.,\n",
       "        77., 191.,  70.,  73.,  49.,  65., 263., 248., 296., 214., 185.,\n",
       "        78.,  93., 252., 150.,  77., 208.,  77., 108., 160.,  53., 220.,\n",
       "       154., 259.,  90., 246., 124.,  67.,  72., 257., 262., 275., 177.,\n",
       "        71.,  47., 187., 125.,  78.,  51., 258., 215., 303., 243.,  91.,\n",
       "       150., 310., 153., 346.,  63.,  89.,  50.,  39., 103., 308., 116.,\n",
       "       145.,  74.,  45., 115., 264.,  87., 202., 127., 182., 241.,  66.,\n",
       "        94., 283.,  64., 102., 200., 265.,  94., 230., 181., 156., 233.,\n",
       "        60., 219.,  80.,  68., 332., 248.,  84., 200.,  55.,  85.,  89.,\n",
       "        31., 129.,  83., 275.,  65., 198., 236., 253., 124.,  44., 172.,\n",
       "       114., 142., 109., 180., 144., 163., 147.,  97., 220., 190., 109.,\n",
       "       191., 122., 230., 242., 248., 249., 192., 131., 237.,  78., 135.,\n",
       "       244., 199., 270., 164.,  72.,  96., 306.,  91., 214.,  95., 216.,\n",
       "       263., 178., 113., 200., 139., 139.,  88., 148.,  88., 243.,  71.,\n",
       "        77., 109., 272.,  60.,  54., 221.,  90., 311., 281., 182., 321.,\n",
       "        58., 262., 206., 233., 242., 123., 167.,  63., 197.,  71., 168.,\n",
       "       140., 217., 121., 235., 245.,  40.,  52., 104., 132.,  88.,  69.,\n",
       "       219.,  72., 201., 110.,  51., 277.,  63., 118.,  69., 273., 258.,\n",
       "        43., 198., 242., 232., 175.,  93., 168., 275., 293., 281.,  72.,\n",
       "       140., 189., 181., 209., 136., 261., 113., 131., 174., 257.,  55.,\n",
       "        84.,  42., 146., 212., 233.,  91., 111., 152., 120.,  67., 310.,\n",
       "        94., 183.,  66., 173.,  72.,  49.,  64.,  48., 178., 104., 132.,\n",
       "       220.,  57.])"
      ]
     },
     "execution_count": 36,
     "metadata": {},
     "output_type": "execute_result"
    }
   ],
   "source": [
    "# have a look at column index 10 (Y - the response) i.e. all rows of column index 10\n",
    "ddata[:,10]"
   ]
  },
  {
   "cell_type": "code",
   "execution_count": null,
   "metadata": {},
   "outputs": [],
   "source": [
    "# 1.2 Now that we have the data, we build a correlation vector\n",
    "# First let's look at one case (Age)"
   ]
  },
  {
   "cell_type": "code",
   "execution_count": 38,
   "metadata": {
    "scrolled": true
   },
   "outputs": [
    {
     "name": "stdout",
     "output_type": "stream",
     "text": [
      "Age(x) vs Y(y) - how well does Age correlate to predicted response\n",
      "slope =  1.1049567143733772\n",
      "intercept =  98.52308429923741\n",
      "r_value =  0.18788875071891972\n",
      "p_value =  7.055686149116377e-05\n",
      "std_err =  0.27536820664688627\n"
     ]
    }
   ],
   "source": [
    "# build a linear model and get the residuals\n",
    "# from https://docs.scipy.org/doc/scipy-0.14.0/reference/generated/scipy.stats.linregress.html\n",
    "from scipy import stats\n",
    "import numpy as np\n",
    "x = ddata[:,0]\n",
    "y = ddata[:,10]\n",
    "slope, intercept, r_value, p_value, std_err = stats.linregress(x,y)\n",
    "print(\"Age(x) vs Y(y) - how well does Age correlate to predicted response\")\n",
    "print(\"slope = \", slope)\n",
    "print(\"intercept = \", intercept)\n",
    "# r_value is the correlation coefficient\n",
    "print(\"r_value = \", r_value) \n",
    "print(\"p_value = \", p_value)\n",
    "print(\"std_err = \", std_err)"
   ]
  },
  {
   "cell_type": "code",
   "execution_count": 43,
   "metadata": {},
   "outputs": [],
   "source": [
    "# vector to hold result\n",
    "corr = np.zeros(10)\n",
    "for i in range(corr.size):\n",
    "    x = ddata[:,i]\n",
    "    slope, intercept, r_value, p_value, std_err = stats.linregress(x,y)\n",
    "    corr[i] = r_value"
   ]
  },
  {
   "cell_type": "code",
   "execution_count": 106,
   "metadata": {},
   "outputs": [
    {
     "name": "stdout",
     "output_type": "stream",
     "text": [
      "Predictor ' AGE ' has absolute correlation coefficent = ' 0.18788875071891972\n",
      "Predictor ' SEX ' has absolute correlation coefficent = ' 0.04306199845160534\n",
      "Predictor ' BMI ' has absolute correlation coefficent = ' 0.5864501344746889\n",
      "Predictor ' BP ' has absolute correlation coefficent = ' 0.44148175856257116\n",
      "Predictor ' S1 ' has absolute correlation coefficent = ' 0.21202248101455062\n",
      "Predictor ' S2 ' has absolute correlation coefficent = ' 0.1740535869687425\n",
      "Predictor ' S3 ' has absolute correlation coefficent = ' 0.39478925067091863\n",
      "Predictor ' S4 ' has absolute correlation coefficent = ' 0.4304528847447726\n",
      "Predictor ' S5 ' has absolute correlation coefficent = ' 0.5658825924427441\n",
      "Predictor ' S6 ' has absolute correlation coefficent = ' 0.382483484248581\n",
      "text  0.18788875071891972 , more text =  0.04306199845160534\n"
     ]
    }
   ],
   "source": [
    "for i in range(corr.size):\n",
    "    print(\"Predictor '\", dheaders[i], \"' has absolute correlation coefficent = '\", np.abs(corr[i]))\n",
    "print(\"text \", corr[0], \", more text = \", corr[1])"
   ]
  },
  {
   "cell_type": "code",
   "execution_count": null,
   "metadata": {},
   "outputs": [],
   "source": [
    "# r value is our \"correlation coefficient\", in this case we say \"The correlation coefficient between\n",
    "# a given vector, for instance x vector Age and response vector Y is 0.18788875071891972\"\n",
    "# recapping on the correlation coefficient, from https://en.wikipedia.org/wiki/Correlation_coefficient\n",
    "# \"[V]alues in the range from −1 to +1, where +1 indicates the strongest possible agreement and −1 \n",
    "# the strongest possible disagreement.\""
   ]
  },
  {
   "cell_type": "code",
   "execution_count": 119,
   "metadata": {},
   "outputs": [
    {
     "name": "stdout",
     "output_type": "stream",
     "text": [
      "Maximum negative correlation coefficient =  -0.39478925067091863\n",
      "Corresponding index =  [[6]]\n",
      "Corresponding label =  [['S3']]\n",
      "Maximum positive correlation coefficient =  0.5864501344746889\n",
      "Corresponding index =  [[2]]\n",
      "Corresponding label =  [['BMI']]\n",
      "Maximum absolute correlation coefficient with the response vector y is  [['BMI']] 0.5864501344746889\n"
     ]
    }
   ],
   "source": [
    "# 1.3 Finally, find maximum absolute correlation (with the response vector y)\n",
    "# Find maximum negative value correlation coefficient value, index and label\n",
    "mnval = np.min(corr)\n",
    "mnidx = np.argwhere(corr==mnval)\n",
    "# print label\n",
    "print(\"Maximum negative correlation coefficient = \", mnval)\n",
    "print(\"Corresponding index = \", mnidx)\n",
    "print(\"Corresponding label = \", dheaders[mnidx])    \n",
    "\n",
    "# Find maximum positive value correlation coefficient value, index and label\n",
    "mxval = np.max(corr)\n",
    "mxidx = np.argwhere(corr==mxval)\n",
    "# print label\n",
    "print(\"Maximum positive correlation coefficient = \", mxval)\n",
    "print(\"Corresponding index = \", mxidx)\n",
    "print(\"Corresponding label = \", dheaders[mxidx]) \n",
    "\n",
    "# At this point we need to decide which is the maximum value to present to a human\n",
    "if abs(mnval) > mxval:\n",
    "    print(\"maximum absolute correlation coefficient with the response vector y is \", dheaders[mnidx], mnval)\n",
    "else:\n",
    "    print(\"Maximum absolute correlation coefficient with the response vector y is \", dheaders[mxidx], mxval)"
   ]
  },
  {
   "cell_type": "markdown",
   "metadata": {},
   "source": [
    "**Residuals recap**\n",
    "\n",
    "Residual = Observed value - Predicted value  \n",
    "$$e = y - \\hat{y}$$  \n",
    "Where predicted value $\\hat{y}$ is obtained from our line equation $y = mx + c$, where  \n",
    "m = slope  \n",
    "x = observation  \n",
    "c = intercept  \n",
    "\n",
    "In practice we \n",
    "1. Loop through every column i, obtaining, a slope and intercept value for the line of best fit equation.\n",
    "2. Loop through every row j, substituting our observation (i,j) into line equation and obtaining the predicted value $\\hat{y}$\n",
    "3. Subtract $\\hat{y}$ from observed value y as found in array ddata[j,10]  \n",
    "4. Store residual value in residuals[i,j]\n"
   ]
  },
  {
   "cell_type": "code",
   "execution_count": 76,
   "metadata": {},
   "outputs": [
    {
     "name": "stdout",
     "output_type": "stream",
     "text": [
      "(442, 10)\n"
     ]
    }
   ],
   "source": [
    "# Exercise 2\n",
    "# Populate a residuals vectors, then show sums of absolute values\n",
    "# 2.1 Create an empty vector to hold residuals, note, this is a multidimensional array (matrix)\n",
    "# with the same size and shape of our diabetes array, minus the response vector\n",
    "rx = ddata.shape[0]\n",
    "ry = ddata.shape[1] - 1\n",
    "residuals = np.zeros((rx, ry))\n",
    "print(residuals.shape)"
   ]
  },
  {
   "cell_type": "code",
   "execution_count": 145,
   "metadata": {},
   "outputs": [],
   "source": [
    "# reassign y just to remind us where the vector is coming from\n",
    "y = ddata[:,10]\n",
    "# Get the limits of our computation\n",
    "rownum = residuals.shape[0]\n",
    "colnum = residuals.shape[1]\n",
    "# Calculate residuals\n",
    "for j in range(colnum):\n",
    "    x = ddata[:,j]\n",
    "    slope, intercept, r_value, p_value, std_err = stats.linregress(x,y)\n",
    "    for i in range(rownum):\n",
    "        # observed attribute\n",
    "        xobs = ddata[i,j]\n",
    "        yhat = (slope * xobs) + intercept\n",
    "        yobs = ddata[i,10]\n",
    "        residuals[i,j] = yobs - yhat    "
   ]
  },
  {
   "cell_type": "markdown",
   "metadata": {},
   "source": [
    "Now check the results. By definition both the sum and mean of residuals for a given predictor (attribute) must be equal to zero:\n",
    "\n",
    "$$\\sum{e}=0,  \n",
    "\\bar{e}=0$$"
   ]
  },
  {
   "cell_type": "code",
   "execution_count": 146,
   "metadata": {},
   "outputs": [
    {
     "name": "stdout",
     "output_type": "stream",
     "text": [
      "Column  AGE , sum of residuals =  -8.412825991399586e-12 , mean of residuals =  -1.9033542966967388e-14\n",
      "Column  SEX , sum of residuals =  -6.821210263296962e-12 , mean of residuals =  -1.5432602405649234e-14\n",
      "Column  BMI , sum of residuals =  -3.069544618483633e-12 , mean of residuals =  -6.9446710825421554e-15\n",
      "Column  BP , sum of residuals =  -1.887201506178826e-11 , mean of residuals =  -4.269686665562955e-14\n",
      "Column  S1 , sum of residuals =  -1.1368683772161603e-12 , mean of residuals =  -2.572100400941539e-15\n",
      "Column  S2 , sum of residuals =  -6.366462912410498e-12 , mean of residuals =  -1.440376224527262e-14\n",
      "Column  S3 , sum of residuals =  -1.6143530956469476e-11 , mean of residuals =  -3.652382569336986e-14\n",
      "Column  S4 , sum of residuals =  -5.9117155615240335e-12 , mean of residuals =  -1.3374922084896003e-14\n",
      "Column  S5 , sum of residuals =  -1.0061285138363019e-11 , mean of residuals =  -2.2763088548332623e-14\n",
      "Column  S6 , sum of residuals =  -1.3983481039758772e-11 , mean of residuals =  -3.163683493158093e-14\n"
     ]
    }
   ],
   "source": [
    "for j in range(colnum):\n",
    "    x = ddata[:,j]\n",
    "    collabel = dheaders[j]\n",
    "    rsum = np.sum(residuals[:,j])\n",
    "    rmean = np.mean(residuals[:,j])\n",
    "    print(\"Column \", collabel, \", sum of residuals = \", rsum, \", mean of residuals = \", rmean)"
   ]
  },
  {
   "cell_type": "code",
   "execution_count": 147,
   "metadata": {},
   "outputs": [
    {
     "name": "stdout",
     "output_type": "stream",
     "text": [
      "Sum of absolute residuals values for  AGE  =  28532.999160066138\n",
      "Sum of absolute residuals values for  SEX  =  29052.156028368794\n",
      "Sum of absolute residuals values for  BMI  =  22894.993416673875\n",
      "Sum of absolute residuals values for  BP  =  25242.0414856305\n",
      "Sum of absolute residuals values for  S1  =  28176.2263899683\n",
      "Sum of absolute residuals values for  S2  =  28492.62197230686\n",
      "Sum of absolute residuals values for  S3  =  26227.214397277345\n",
      "Sum of absolute residuals values for  S4  =  25511.09953707836\n",
      "Sum of absolute residuals values for  S5  =  22755.040513760414\n",
      "Sum of absolute residuals values for  S6  =  26484.496428752347\n"
     ]
    }
   ],
   "source": [
    "# Note, previous values are all very close to zero (first significant digit appearing between 11th and \n",
    "# 15th decimal place)\n",
    "# Next we sum the absolute values of the residuals, expecting the minimum value to correspond to predictor\n",
    "# index 2 (BMI)\n",
    "for j in range(colnum):\n",
    "    x = ddata[:,j]\n",
    "    collabel = dheaders[j]\n",
    "    absrsum = np.sum(np.abs(residuals[:,j]))\n",
    "    print(\"Sum of absolute residuals values for \", collabel, \" = \", absrsum)"
   ]
  },
  {
   "cell_type": "code",
   "execution_count": 158,
   "metadata": {},
   "outputs": [
    {
     "name": "stdout",
     "output_type": "stream",
     "text": [
      "Difference between correlation coefficients for BMI and S5 =  1.0283771015972387 %\n",
      "Difference between absolute residual values for BMI and S5 =  0.6112816910073303 %\n"
     ]
    }
   ],
   "source": [
    "# The lowest value is S5  =  22755.040513760414, the second lowest value is BMI  =  22894.993416673875\n",
    "# Note, the highest correlation coefficient using the stats.linregress function was\n",
    "# BMI = 0.5864501344746889 followed by S5 = 0.5658825924427441\n",
    "# As the scale goes from 1 to -1\n",
    "ccdiffpc = (0.5864501344746889 - 0.5658825924427441) * 100 / 2\n",
    "print(\"Difference between correlation coefficients for BMI and S5 = \", ccdiffpc, \"%\")\n",
    "resdiffpc = (22894.993416673875 - 22755.040513760414) * 100 / 22894.993416673875 \n",
    "print(\"Difference between absolute residual values for BMI and S5 = \", resdiffpc, \"%\")"
   ]
  }
 ],
 "metadata": {
  "kernelspec": {
   "display_name": "Python 3",
   "language": "python",
   "name": "python3"
  },
  "language_info": {
   "codemirror_mode": {
    "name": "ipython",
    "version": 3
   },
   "file_extension": ".py",
   "mimetype": "text/x-python",
   "name": "python",
   "nbconvert_exporter": "python",
   "pygments_lexer": "ipython3",
   "version": "3.6.5"
  }
 },
 "nbformat": 4,
 "nbformat_minor": 2
}
