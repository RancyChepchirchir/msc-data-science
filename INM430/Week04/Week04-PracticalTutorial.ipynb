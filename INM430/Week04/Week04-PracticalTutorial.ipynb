{
 "cells": [
  {
   "cell_type": "raw",
   "metadata": {},
   "source": [
    "   _____  ____  _______ ____ ___    _      __        __     ____\n",
    "  /  _/ |/ /  |/  / / /|_  // _ \\  | | /| / /__ ___ / /__  / / /\n",
    " _/ //    / /|_/ /_  _//_ </ // /  | |/ |/ / -_) -_)  '_/ /_  _/\n",
    "/___/_/|_/_/  /_/ /_//____/\\___/   |__/|__/\\__/\\__/_/\\_\\   /_/\n",
    "\n",
    "Credits:\n",
    "ASCII text:\n",
    "http://patorjk.com/software/taag/#p=display&f=Small%20Slant&t=INM430%20Week%204 retrieved 17.10.2018\n",
    "LaTex editor:\n",
    "https://upmath.me/"
   ]
  },
  {
   "cell_type": "markdown",
   "metadata": {},
   "source": [
    "\n",
    "# Week 04 - Investigate relations & structures\n",
    "\n",
    "This week we have a set of exercises to give you some hands on experience for investigating relations and dependencies between different phenomena. We will again make use of different data sets an available functionality in pandas and numpy. This week is mostly in DIY fashion where you will need to carry on different analytical tasks.\n",
    "\n",
    "Data: Crime vs. Socio-economic indicators\n",
    "For this week's exercises, we will be analysing a data set made available by the UCI Machine Learning Repository, which is a good resource to find example data sets. The data, Communities in the US., combines socio-economic data from the '90 Census, law enforcement data from the 1990 Law Enforcement Management and Admin Stats survey, and crime data from the 1995 FBI UCR. We provide two versions of the data, a problematic one with some missing values, and a clean version where the problematic columns have been removed. Detailed information on column names can be found here. The reason this data set has been collected is to find the relations between crime statistics and socio-economic variables. Before you continue with practicals:\n",
    "\n",
    "Have a look at the meta-data (for the problematic version).\n",
    "Identify the dependent and independent variables in the data.\n",
    "\n",
    "# DIY Exercises - 1 : Correlation Analysis\n",
    "Here we investigate how we can perform correlation analysis using Python. Pandas has functionalities to do some correlation analysis, but we start with a numpy version of the analysis.\n",
    "\n",
    "1. Load the Communities in the US (cleaned version) into a pandas data frame. Use this as an example:"
   ]
  },
  {
   "cell_type": "code",
   "execution_count": 59,
   "metadata": {},
   "outputs": [],
   "source": [
    "from pathlib import Path\n",
    "file_name = 'censusCrimeClean.csv'\n",
    "fname = Path(file_name)\n",
    "\n",
    "if not fname.is_file():\n",
    "    # download\n",
    "    try:\n",
    "        import urllib.request\n",
    "        url = 'http://staff.city.ac.uk/~sbbk529/Teaching/Resources/INM430/censusCrimeClean.csv' # retrieved 17.10.2018\n",
    "        \n",
    "        urllib.request.urlretrieve(url, file_name)\n",
    "        fname = Path(file_name)\n",
    "    except ValueError:\n",
    "        print(\"Could not download censusCrimeClean.csv\")"
   ]
  },
  {
   "cell_type": "code",
   "execution_count": 60,
   "metadata": {},
   "outputs": [
    {
     "name": "stdout",
     "output_type": "stream",
     "text": [
      "         communityname  fold  population  householdsize  racepctblack  \\\n",
      "0         Lakewoodcity     1        0.19           0.33          0.02   \n",
      "1          Tukwilacity     1        0.00           0.16          0.12   \n",
      "2         Aberdeentown     1        0.00           0.42          0.49   \n",
      "3  Willingborotownship     1        0.04           0.77          1.00   \n",
      "4    Bethlehemtownship     1        0.01           0.55          0.02   \n",
      "\n",
      "   racePctWhite  racePctAsian  racePctHisp  agePct12t21  agePct12t29  \\\n",
      "0          0.90          0.12         0.17         0.34         0.47   \n",
      "1          0.74          0.45         0.07         0.26         0.59   \n",
      "2          0.56          0.17         0.04         0.39         0.47   \n",
      "3          0.08          0.12         0.10         0.51         0.50   \n",
      "4          0.95          0.09         0.05         0.38         0.38   \n",
      "\n",
      "          ...           NumStreet  PctForeignBorn  PctBornSameState  \\\n",
      "0         ...                 0.0            0.12              0.42   \n",
      "1         ...                 0.0            0.21              0.50   \n",
      "2         ...                 0.0            0.14              0.49   \n",
      "3         ...                 0.0            0.19              0.30   \n",
      "4         ...                 0.0            0.11              0.72   \n",
      "\n",
      "   PctSameHouse85  PctSameCity85  PctSameState85  LandArea  PopDens  \\\n",
      "0            0.50           0.51            0.64      0.12     0.26   \n",
      "1            0.34           0.60            0.52      0.02     0.12   \n",
      "2            0.54           0.67            0.56      0.01     0.21   \n",
      "3            0.73           0.64            0.65      0.02     0.39   \n",
      "4            0.64           0.61            0.53      0.04     0.09   \n",
      "\n",
      "   PctUsePubTrans  ViolentCrimesPerPop  \n",
      "0            0.20                 0.20  \n",
      "1            0.45                 0.67  \n",
      "2            0.02                 0.43  \n",
      "3            0.28                 0.12  \n",
      "4            0.02                 0.03  \n",
      "\n",
      "[5 rows x 102 columns]\n"
     ]
    }
   ],
   "source": [
    "import csv as csv\n",
    "import numpy as np\n",
    "import pandas as pd\n",
    "\n",
    "crimedata = pd.read_csv(file_name)\n",
    "print (crimedata.head()) # check if everything is in place"
   ]
  },
  {
   "cell_type": "markdown",
   "metadata": {},
   "source": [
    "2. Copy one of the dependent and one of the independent columns into separate numpy arrays. You can use as_matrix function in pandas. You can choose any but an interesting one could be to look at the relation between \"medIncome\" and \"ViolentCrimesPerPop\". Remember to use numpy slicing you learnt earlier.\n",
    "\n",
    "Dependend and independent variables https://en.wikipedia.org/wiki/Dependent_and_independent_variables retrieved 17.10.2018\n",
    "\n",
    "\"In mathematical modeling, statistical modeling and experimental sciences, the values of dependent variables depend on the values of independent variables. The dependent variables represent the output or outcome whose variation is being studied. The independent variables, also known in a statistical context as regressors, represent inputs or causes, that is, potential reasons for variation. In an experiment, any variable that the experimenter manipulates can be called an independent variable. Models and experiments test the effects that the independent variables have on the dependent variables. Sometimes, even if their influence if not of direct interest, independent variables may be included for other reasons, such as to account for their potential confounding effect.\"\n",
    "\n",
    "Assuming 'ViolentCrimesPerPop' and 'medIncome' are the dependent and independent values respectively."
   ]
  },
  {
   "cell_type": "code",
   "execution_count": 61,
   "metadata": {},
   "outputs": [
    {
     "data": {
      "text/plain": [
       "array([0.2 , 0.67, 0.43, ..., 0.23, 0.19, 0.48])"
      ]
     },
     "execution_count": 61,
     "metadata": {},
     "output_type": "execute_result"
    }
   ],
   "source": [
    "nparr = np.array(crimedata[['medIncome', 'ViolentCrimesPerPop']].values)\n",
    "# Note syntax, get first row\n",
    "nparr[0]\n",
    "# array([0.37, 0.2 ])\n",
    "# Show how many rows and colummns in array\n",
    "nparr.shape\n",
    "# (1994, 2)\n",
    "# Get all values in column 1\n",
    "nparr[:,0]\n",
    "# array([0.37, 0.31, 0.3 , ..., 0.31, 0.44, 0.4 ])\n",
    "# Get all values in column 2\n",
    "nparr[:,1]\n",
    "# array([0.2 , 0.67, 0.43, ..., 0.23, 0.19, 0.48])\n"
   ]
  },
  {
   "cell_type": "markdown",
   "metadata": {},
   "source": [
    "3. Perform a Pearson correlation and note the correlation value.\n",
    "\n",
    "NB Slide 33 in https://moodle.city.ac.uk/pluginfile.php/1524168/mod_resource/content/0/INM430_Week04_Lecture.pdf retrieved 17.10.2018 refers to \"Pearson Correlation\" though corresponding formula in wikipedia refers to \"pearson correlation coeficient\"\n",
    "\n",
    "From https://en.wikipedia.org/wiki/Pearson_correlation_coefficient retrieved 17.10.2018    \n",
    "\n",
    "**Definition**\n",
    "  \n",
    "\"Pearson's correlation coefficient is the covariance of the two variables divided by the product of their standard deviations. The form of the definition involves a \"product moment\", that is, the mean (the first moment about the origin) of the product of the mean-adjusted random variables; hence the modifier product-moment in the name.\"\n",
    "\n",
    "$$r = r_{xy} =\\frac{1}{n-1} \\sum ^n _{i=1} \\left( \\frac{x_i - \\bar{x}}{s_x} \\right) \\left( \\frac{y_i - \\bar{y}}{s_y} \\right)$$\n",
    "\n",
    "From https://docs.scipy.org/doc/scipy-0.14.0/reference/generated/scipy.stats.pearsonr.html\n",
    "\n",
    "scipy.stats.pearsonr\n",
    "\n",
    "scipy.stats.pearsonr(x, y)\n",
    "\n",
    "Calculates a Pearson correlation coefficient and the p-value for testing non-correlation.\n",
    "\n",
    "The Pearson correlation coefficient measures the linear relationship between two datasets. **Strictly speaking, Pearson’s correlation requires that each dataset be normally distributed**. Like other correlation coefficients, this one varies between -1 and +1 with 0 implying no correlation. Correlations of -1 or +1 imply an exact linear relationship. Positive correlations imply that as x increases, so does y. Negative correlations imply that as x increases, y decreases.\n",
    "\n",
    "The p-value roughly indicates the probability of an uncorrelated system producing datasets that have a Pearson correlation at least as extreme as the one computed from these datasets. The p-values are not entirely reliable but are probably reasonable for datasets larger than 500 or so."
   ]
  },
  {
   "cell_type": "code",
   "execution_count": 70,
   "metadata": {},
   "outputs": [
    {
     "name": "stderr",
     "output_type": "stream",
     "text": [
      "C:\\ProgramData\\Anaconda3\\lib\\site-packages\\matplotlib\\axes\\_axes.py:6462: UserWarning: The 'normed' kwarg is deprecated, and has been replaced by the 'density' kwarg.\n",
      "  warnings.warn(\"The 'normed' kwarg is deprecated, and has been \"\n"
     ]
    },
    {
     "data": {
      "text/plain": [
       "<matplotlib.axes._subplots.AxesSubplot at 0x88dc265860>"
      ]
     },
     "execution_count": 70,
     "metadata": {},
     "output_type": "execute_result"
    },
    {
     "data": {
      "image/png": "[encoded data removed]",
      "text/plain": [
       "<Figure size 432x288 with 1 Axes>"
      ]
     },
     "metadata": {},
     "output_type": "display_data"
    }
   ],
   "source": [
    "# NB columns chosen are not normally distributed\n",
    "import seaborn as sns\n",
    "sns.set(color_codes=True)\n",
    "# Are these datasets normally distributed?\n",
    "sns.distplot(nparr[:,0])"
   ]
  },
  {
   "cell_type": "code",
   "execution_count": 71,
   "metadata": {
    "scrolled": true
   },
   "outputs": [
    {
     "name": "stderr",
     "output_type": "stream",
     "text": [
      "C:\\ProgramData\\Anaconda3\\lib\\site-packages\\matplotlib\\axes\\_axes.py:6462: UserWarning: The 'normed' kwarg is deprecated, and has been replaced by the 'density' kwarg.\n",
      "  warnings.warn(\"The 'normed' kwarg is deprecated, and has been \"\n"
     ]
    },
    {
     "data": {
      "text/plain": [
       "<matplotlib.axes._subplots.AxesSubplot at 0x88dc223f28>"
      ]
     },
     "execution_count": 71,
     "metadata": {},
     "output_type": "execute_result"
    },
    {
     "data": {
      "image/png": "[encoded data removed]",
      "text/plain": [
       "<Figure size 432x288 with 1 Axes>"
      ]
     },
     "metadata": {},
     "output_type": "display_data"
    }
   ],
   "source": [
    "sns.distplot(nparr[:,1])"
   ]
  },
  {
   "cell_type": "code",
   "execution_count": 72,
   "metadata": {},
   "outputs": [
    {
     "data": {
      "text/plain": [
       "(-0.42422061672612604, 6.334424808052866e-88)"
      ]
     },
     "execution_count": 72,
     "metadata": {},
     "output_type": "execute_result"
    }
   ],
   "source": [
    "import scipy.stats as scp\n",
    "scp.pearsonr(nparr[:,0], nparr[:,1])"
   ]
  },
  {
   "cell_type": "markdown",
   "metadata": {},
   "source": [
    "4. Perform a Spearman correlation computation and note the correlation value."
   ]
  },
  {
   "cell_type": "code",
   "execution_count": 24,
   "metadata": {},
   "outputs": [
    {
     "data": {
      "text/plain": [
       "SpearmanrResult(correlation=-0.482169950997556, pvalue=1.2978853095169542e-116)"
      ]
     },
     "execution_count": 24,
     "metadata": {},
     "output_type": "execute_result"
    }
   ],
   "source": [
    "scp.spearmanr(nparr[:,0], nparr[:,1])"
   ]
  },
  {
   "cell_type": "markdown",
   "metadata": {},
   "source": [
    "5. Comment on the differences / similarities in relation to a scatterplot visualisation of the two columns."
   ]
  },
  {
   "cell_type": "code",
   "execution_count": 68,
   "metadata": {
    "scrolled": true
   },
   "outputs": [
    {
     "data": {
      "image/png": "[encoded data removed]",
      "text/plain": [
       "<Figure size 432x288 with 1 Axes>"
      ]
     },
     "metadata": {},
     "output_type": "display_data"
    }
   ],
   "source": [
    "import matplotlib.pyplot as plt\n",
    "# pass as array\n",
    "plt.scatter(crimedata['medIncome'],crimedata['ViolentCrimesPerPop'], c = 'Blue', s = 100, linewidth = 0, marker='s')\n",
    "plt.title(\"med Income vs Violent Crimes Per Pop\")\n",
    "plt.xlabel(\"med Income\")\n",
    "plt.ylabel(\"Violent Crimes Per Pop\")\n",
    "plt.show()"
   ]
  },
  {
   "cell_type": "code",
   "execution_count": null,
   "metadata": {},
   "outputs": [],
   "source": []
  },
  {
   "cell_type": "markdown",
   "metadata": {},
   "source": [
    "Violent crime and median income seem to be invertionally proportional"
   ]
  },
  {
   "cell_type": "markdown",
   "metadata": {},
   "source": [
    "# DIY Exercises - 2 : Regression Analysis\n",
    "Here we investigate how we can perform correlation analysis using Python, scipy and statsmodels. Alternatively, you can use statsmodels in combination with Pandas. Now on to some exercises:\n",
    "\n",
    "1. We first start with scipy. Use the basic functionality from scipy to perform a simple linear regression. Get two columns from the data into numpy arrays and use the scipy.stats.linregress function to perform a linear regression. Comment on the results returned."
   ]
  },
  {
   "cell_type": "code",
   "execution_count": null,
   "metadata": {},
   "outputs": [],
   "source": []
  },
  {
   "cell_type": "markdown",
   "metadata": {},
   "source": [
    "2. Although statsmodels can operate in coordination with pandas, we will first use statsmodels with numpy arrays. Start by getting the data into numpy arrays first. Basic functionality in scipy was limited and multiple regression was not possible. "
   ]
  },
  {
   "cell_type": "code",
   "execution_count": null,
   "metadata": {},
   "outputs": [],
   "source": []
  },
  {
   "cell_type": "markdown",
   "metadata": {},
   "source": [
    "3. Now select 2 independent variables and a single dependent variable. Use the OLS function in statsmodels to perform a multiple regression operation and comment on the results. Note that you first model and fit the model to your data:"
   ]
  },
  {
   "cell_type": "code",
   "execution_count": 45,
   "metadata": {},
   "outputs": [
    {
     "name": "stdout",
     "output_type": "stream",
     "text": [
      "20.923076923076923\n"
     ]
    }
   ],
   "source": [
    "epm = 40800 / 52 / 37.5\n",
    "print(epm)"
   ]
  },
  {
   "cell_type": "code",
   "execution_count": 42,
   "metadata": {},
   "outputs": [
    {
     "data": {
      "text/plain": [
       "2.328767123287671"
      ]
     },
     "execution_count": 42,
     "metadata": {},
     "output_type": "execute_result"
    }
   ],
   "source": [
    "epm * 100"
   ]
  },
  {
   "cell_type": "code",
   "execution_count": null,
   "metadata": {},
   "outputs": [],
   "source": [
    "epm * 3600"
   ]
  }
 ],
 "metadata": {
  "kernelspec": {
   "display_name": "Python 3",
   "language": "python",
   "name": "python3"
  },
  "language_info": {
   "codemirror_mode": {
    "name": "ipython",
    "version": 3
   },
   "file_extension": ".py",
   "mimetype": "text/x-python",
   "name": "python",
   "nbconvert_exporter": "python",
   "pygments_lexer": "ipython3",
   "version": "3.6.5"
  }
 },
 "nbformat": 4,
 "nbformat_minor": 2
}
