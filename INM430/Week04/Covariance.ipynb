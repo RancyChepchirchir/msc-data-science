{
 "cells": [
  {
   "cell_type": "markdown",
   "metadata": {},
   "source": [
    "## Covariance\n",
    "\n",
    "From https://docs.scipy.org/doc/numpy-1.13.0/reference/generated/numpy.cov.html#numpy.cov\n",
    "\n",
    "numpy.cov  \n",
    "\n",
    "numpy.cov(m, y=None, rowvar=True, bias=False, ddof=None, fweights=None, aweights=None)  \n",
    "\n",
    "\"Estimate a covariance matrix, given data and weights.\n",
    "\n",
    "Covariance indicates the level to which **two variables vary together**. If we examine N-dimensional samples, $X = [x_1, x_2, ... x_N]^T$, then the covariance matrix element $C_{ij}$ is the covariance of $x_i$ and $x_j$. The element $C_{ii}$ is the variance of $x_i$.\""
   ]
  },
  {
   "cell_type": "code",
   "execution_count": 104,
   "metadata": {},
   "outputs": [
    {
     "data": {
      "text/plain": [
       "array([[0, 2],\n",
       "       [1, 1],\n",
       "       [2, 0]])"
      ]
     },
     "execution_count": 104,
     "metadata": {},
     "output_type": "execute_result"
    }
   ],
   "source": [
    "import numpy as np\n",
    "x = np.array([[0, 2], [1, 1], [2, 0]])\n",
    "x"
   ]
  },
  {
   "cell_type": "code",
   "execution_count": 105,
   "metadata": {},
   "outputs": [
    {
     "data": {
      "text/plain": [
       "(3, 2)"
      ]
     },
     "execution_count": 105,
     "metadata": {},
     "output_type": "execute_result"
    }
   ],
   "source": [
    "x.shape"
   ]
  },
  {
   "cell_type": "code",
   "execution_count": 106,
   "metadata": {},
   "outputs": [
    {
     "name": "stdout",
     "output_type": "stream",
     "text": [
      "[[0 1 2]\n",
      " [2 1 0]]\n",
      "[[ 1. -1.]\n",
      " [-1.  1.]]\n"
     ]
    }
   ],
   "source": [
    "x = x.T\n",
    "# Array x has been transposed and has 2 columns - easier to visualise relationship between columns\n",
    "x.shape\n",
    "# (2, 3)\n",
    "print(x)\n",
    "#[[0 1 2]\n",
    "# [2 1 0]]\n",
    "print(np.cov(x))\n",
    "# [[ 1. -1.]\n",
    "# [-1.  1.]]"
   ]
  },
  {
   "cell_type": "markdown",
   "metadata": {},
   "source": [
    "## The variance-covariance matrix\n",
    "\n",
    "From https://support.minitab.com/en-us/minitab/18/help-and-how-to/modeling-statistics/anova/supporting-topics/anova-statistics/what-is-the-variance-covariance-matrix/\n",
    "\n",
    "A variance-covariance matrix is a square matrix that contains the variances and covariances associated with several variables. The diagonal elements of the matrix contain the variances of the variables and the off-diagonal elements contain the covariances between all possible pairs of variables.\n",
    "\n",
    "From https://math.stackexchange.com/questions/710214/how-to-construct-a-covariance-matrix-from-a-2x2-data-set\n",
    "\n",
    "The variance-covariance matrix has the following structure:   \n",
    "\n",
    "$$ \\begin{bmatrix}\n",
    "    var(x) & cov(x,y) \\\\\n",
    "    cov(x,y) & var(y) \n",
    "\\end{bmatrix} $$\n",
    "\n",
    "where $$var(x)=\\frac{1}{n-1}\\sum(x_i -\\bar{x})^2$$ and $$cov(x,y)=\\frac{1}{n-1}\\sum(x_i -\\bar{x})(y_i -\\bar{y})$$\n"
   ]
  },
  {
   "cell_type": "code",
   "execution_count": 107,
   "metadata": {},
   "outputs": [
    {
     "name": "stdout",
     "output_type": "stream",
     "text": [
      "1.0\n"
     ]
    }
   ],
   "source": [
    "# calculate variance var(x) \"by hand\"\n",
    "print(np.sum((xcol - xcol.mean())**2)/(xcol.size - 1))\n",
    "# 1.0"
   ]
  },
  {
   "cell_type": "code",
   "execution_count": 108,
   "metadata": {},
   "outputs": [
    {
     "name": "stdout",
     "output_type": "stream",
     "text": [
      "-1.0\n"
     ]
    }
   ],
   "source": [
    "# Calculate covariance cov(x,y) \"by hand\"\n",
    "# Separate columns\n",
    "xcol = x[0]\n",
    "ycol = x[1]\n",
    "# cov(x,y)\n",
    "print(np.sum((xcol - xcol.mean())*(ycol - ycol.mean()))/(xcol.size - 1))\n",
    "# -1.0"
   ]
  },
  {
   "cell_type": "code",
   "execution_count": null,
   "metadata": {},
   "outputs": [],
   "source": []
  }
 ],
 "metadata": {
  "kernelspec": {
   "display_name": "Python 3",
   "language": "python",
   "name": "python3"
  }
 },
 "nbformat": 4,
 "nbformat_minor": 2
}
