{
 "cells": [
  {
   "cell_type": "markdown",
   "metadata": {},
   "source": [
    "# Variance, deviation, covariance and  standard deviation\n",
    "Support studies for INM430 week 4\n",
    "\n",
    "## Variance  \n",
    "\n",
    "General formulas:  \n",
    "\n",
    "Population \n",
    "$$\\sigma^{_2} = \\frac{1}{N}\\sum^{N}_{i=1}(x_i - \\mu)^2$$ \n",
    "\n",
    "Sample \n",
    "$$\\sigma^{_2} = \\frac{1}{n-1}\\sum^{n}_{i=1}(x_i -\\bar{x})^2$$\n",
    "\n",
    "Where  \n",
    "\n",
    "$$\\mu = \\frac{1}{N}\\sum^{N}_{i=1}a_i$$\n",
    "\n",
    "and\n",
    "\n",
    "$$\\bar{x} = \\frac{1}{n}\\sum^{n}_{i=1}a_i$$\n",
    "\n",
    "**N** = population size, **n** = sample size, **$a_i$** = observed sample **a** at index position **i**\n",
    "\n",
    "From [SciPy.org](https://docs.scipy.org/doc/numpy-1.15.1/reference/generated/numpy.var.html):   \n",
    "\"The variance is the average(mean) of the squared deviations from the mean, i.e., var = mean(abs(x - x.mean())\\*\\*2).\"\n",
    "\n",
    "**Worked example - population**\n",
    "\n",
    "Given a study group population *xpop* of 5 students with heights in cm of 167, 153, 184, 190 and 165, what it the height variance in cm of *xpop*?"
   ]
  },
  {
   "cell_type": "code",
   "execution_count": 74,
   "metadata": {},
   "outputs": [
    {
     "name": "stdout",
     "output_type": "stream",
     "text": [
      "Height variance in population xpop = 180.56\n"
     ]
    }
   ],
   "source": [
    "import numpy as np\n",
    "# Variance with absolute observed values minus arithmetic (population) mean squared\n",
    "# For more information on Numpy arrays see https://docs.scipy.org/doc/numpy/user/quickstart.html\n",
    "xpop = np.array([167, 153, 184, 190, 165])\n",
    "varx = np.mean(abs(xpop - xpop.mean())**2)\n",
    "print (\"Height variance in population xpop = \" + str(varx))\n",
    "# Height variance in population xpop = 180.56"
   ]
  },
  {
   "cell_type": "code",
   "execution_count": 110,
   "metadata": {},
   "outputs": [
    {
     "data": {
      "text/plain": [
       "180.56"
      ]
     },
     "execution_count": 110,
     "metadata": {},
     "output_type": "execute_result"
    }
   ],
   "source": [
    "# NB Numpy built-in function .var returns population variance by default - see\n",
    "# https://docs.scipy.org/doc/numpy-1.15.1/reference/generated/numpy.var.html\n",
    "# ddof : int, optional\n",
    "#    “Delta Degrees of Freedom”: the divisor used in the calculation is N - ddof, where N represents the number of elements. \n",
    "#    By default ddof is zero.\n",
    "np.var(xpop)\n",
    "# 180.56\n",
    "np.var(xpop,ddof=0)\n",
    "# 180.56"
   ]
  },
  {
   "cell_type": "code",
   "execution_count": 45,
   "metadata": {},
   "outputs": [
    {
     "data": {
      "text/plain": [
       "180.56"
      ]
     },
     "execution_count": 45,
     "metadata": {},
     "output_type": "execute_result"
    }
   ],
   "source": [
    "# NB abs() is not needed as difference is being squared\n",
    "# Variance without absolute observed values minus mean squared, i.e. only mean of observed\n",
    "# values minus mean squared\n",
    "varx_no_abs = np.mean((xpop - xpop.mean())**2)\n",
    "# Numpy built-in function\n",
    "varx_no_abs\n",
    "# 180.56"
   ]
  },
  {
   "cell_type": "code",
   "execution_count": 68,
   "metadata": {},
   "outputs": [
    {
     "data": {
      "text/plain": [
       "180.56"
      ]
     },
     "execution_count": 68,
     "metadata": {},
     "output_type": "execute_result"
    }
   ],
   "source": [
    "(xpop - xpop.mean())**2\n",
    "# array([ 23.04, 353.44, 148.84, 331.24,  46.24])\n",
    "sum((xpop - xpop.mean())**2)\n",
    "# 902.8000000000001\n",
    "# Calculate variance by \"hand\"\n",
    "sum((xpop - xpop.mean())**2) / xpop.size\n",
    "# 180.56"
   ]
  },
  {
   "cell_type": "code",
   "execution_count": 46,
   "metadata": {},
   "outputs": [
    {
     "data": {
      "text/plain": [
       "171.8"
      ]
     },
     "execution_count": 46,
     "metadata": {},
     "output_type": "execute_result"
    }
   ],
   "source": [
    "# Sanity checks\n",
    "xmean = xpop.mean()\n",
    "xmean\n",
    "# 171.8"
   ]
  },
  {
   "cell_type": "code",
   "execution_count": 47,
   "metadata": {},
   "outputs": [
    {
     "name": "stdout",
     "output_type": "stream",
     "text": [
      "Numpy .mean function returns same value as scmean (calculated by hand)\n"
     ]
    }
   ],
   "source": [
    "scmean = (167 + 153 + 184 + 190 + 165) / 5\n",
    "if scmean == xmean:\n",
    "    print(\"Numpy .mean function returns same value as scmean (calculated by hand)\")\n",
    "else:\n",
    "    print(\"Numpy .mean function returns different value than scmean (calculated by hand)\")"
   ]
  },
  {
   "cell_type": "code",
   "execution_count": 49,
   "metadata": {},
   "outputs": [
    {
     "name": "stdout",
     "output_type": "stream",
     "text": [
      "Population Variance calculated manually = 180.56\n"
     ]
    }
   ],
   "source": [
    "manvar = ((xpop[0] - xmean)**2 + (xpop[1] - xmean)**2 + (xpop[2] - xmean)**2 + (xpop[3] - xmean)**2 + (xpop[4] - xmean)**2) / 5\n",
    "msg = \"Population Variance calculated manually = \" + str(manvar)\n",
    "print(msg)"
   ]
  },
  {
   "cell_type": "code",
   "execution_count": 76,
   "metadata": {},
   "outputs": [
    {
     "name": "stdout",
     "output_type": "stream",
     "text": [
      "Variance for a population of the same height = 0.0\n"
     ]
    }
   ],
   "source": [
    "# Sanity check: if all heights are the same expected variance equals zero\n",
    "xeq = np.array([167, 167, 167, 167, 167])\n",
    "varxeq = np.mean((xeq - xeq.mean())**2)\n",
    "print (\"Variance for a population of the same height = \" + str(varxeq))\n",
    "# Variance for a population of the same height = 0.0"
   ]
  },
  {
   "cell_type": "markdown",
   "metadata": {},
   "source": [
    "**Worked example - sample**\n",
    "\n",
    "Given a study group sample *xsamp* of 5 students with heights in cm of 167, 153, 184, 190 and 165, what it the height variance in cm of *xsamp*?\n"
   ]
  },
  {
   "cell_type": "code",
   "execution_count": 114,
   "metadata": {},
   "outputs": [
    {
     "data": {
      "text/plain": [
       "array([167, 153, 184, 190, 165])"
      ]
     },
     "execution_count": 114,
     "metadata": {},
     "output_type": "execute_result"
    }
   ],
   "source": [
    "xsamp = np.array([167, 153, 184, 190, 165])\n",
    "xsamp\n",
    "# array([167, 153, 184, 190, 165])"
   ]
  },
  {
   "cell_type": "code",
   "execution_count": 113,
   "metadata": {},
   "outputs": [
    {
     "data": {
      "text/plain": [
       "5"
      ]
     },
     "execution_count": 113,
     "metadata": {},
     "output_type": "execute_result"
    }
   ],
   "source": [
    "xsamp.size\n",
    "# 5"
   ]
  },
  {
   "cell_type": "code",
   "execution_count": 112,
   "metadata": {},
   "outputs": [
    {
     "data": {
      "text/plain": [
       "225.70000000000002"
      ]
     },
     "execution_count": 112,
     "metadata": {},
     "output_type": "execute_result"
    }
   ],
   "source": [
    "# Using numpy built-in var function\n",
    "np.var(xsamp,ddof=1)\n",
    "# 225.70000000000002"
   ]
  },
  {
   "cell_type": "code",
   "execution_count": 69,
   "metadata": {},
   "outputs": [
    {
     "data": {
      "text/plain": [
       "171.8"
      ]
     },
     "execution_count": 69,
     "metadata": {},
     "output_type": "execute_result"
    }
   ],
   "source": [
    "xsampmean = np.mean(xsamp)\n",
    "xsampmean\n",
    "# 171.8"
   ]
  },
  {
   "cell_type": "code",
   "execution_count": 92,
   "metadata": {},
   "outputs": [
    {
     "name": "stdout",
     "output_type": "stream",
     "text": [
      "Height variance in sample varxsamp = 225.70000000000002\n"
     ]
    }
   ],
   "source": [
    "# Variance with observed values minus sample mean squared\n",
    "varxsamp = np.sum((xsamp - xsampmean)**2) / (xsamp.size - 1)\n",
    "print (\"Height variance in sample varxsamp = \" + str(varxsamp))\n",
    "# Height variance in sample varxsamp = 225.70000000000002"
   ]
  },
  {
   "cell_type": "markdown",
   "metadata": {},
   "source": [
    "## Deviation\n",
    "From [Wikipedia](https://en.wikipedia.org/wiki/Deviation_(statistics))  \n",
    "\"In mathematics and statistics, deviation is a measure of difference between the observed value of a variable and some other value, often that variable's mean. The sign of the deviation (positive or negative), reports the direction of that difference (the deviation is positive when the observed value exceeds the reference value). The magnitude of the value indicates the size of the difference.\n",
    "\n",
    "In statistics, the absolute deviation of an element of a data set is the absolute difference between that element and a given point. Typically the deviation is reckoned from the central value, being construed as some type of average, most often the median or sometimes the mean of the data set. \n",
    "\"  \n",
    "\n",
    "$$ D_i = |x_i-m(X)| $$\n"
   ]
  },
  {
   "cell_type": "code",
   "execution_count": 43,
   "metadata": {},
   "outputs": [
    {
     "data": {
      "text/plain": [
       "array([167, 153, 184, 190, 165])"
      ]
     },
     "execution_count": 43,
     "metadata": {},
     "output_type": "execute_result"
    }
   ],
   "source": [
    "x = np.array([167, 153, 184, 190, 165])\n",
    "x"
   ]
  },
  {
   "cell_type": "code",
   "execution_count": 35,
   "metadata": {},
   "outputs": [
    {
     "data": {
      "text/plain": [
       "171.8"
      ]
     },
     "execution_count": 35,
     "metadata": {},
     "output_type": "execute_result"
    }
   ],
   "source": [
    "# NB numpy array x has attribute .mean\n",
    "xmean = x.mean()\n",
    "xmean\n",
    "# 171.8"
   ]
  },
  {
   "cell_type": "code",
   "execution_count": 41,
   "metadata": {},
   "outputs": [
    {
     "data": {
      "text/plain": [
       "167.0"
      ]
     },
     "execution_count": 41,
     "metadata": {},
     "output_type": "execute_result"
    }
   ],
   "source": [
    "# NB numpy array x has no attribute .median\n",
    "xmedian = np.median(x)\n",
    "xmedian\n",
    "# 167.0"
   ]
  },
  {
   "cell_type": "code",
   "execution_count": 39,
   "metadata": {},
   "outputs": [
    {
     "data": {
      "text/plain": [
       "18.80000000000001"
      ]
     },
     "execution_count": 39,
     "metadata": {},
     "output_type": "execute_result"
    }
   ],
   "source": [
    "# Calculate deviation for array element 1, based on mean()\n",
    "abs(x[1] - xmean)\n",
    "# 18.80000000000001"
   ]
  },
  {
   "cell_type": "code",
   "execution_count": 42,
   "metadata": {},
   "outputs": [
    {
     "data": {
      "text/plain": [
       "14.0"
      ]
     },
     "execution_count": 42,
     "metadata": {},
     "output_type": "execute_result"
    }
   ],
   "source": [
    "# based on median()\n",
    "abs(x[1] - xmedian)\n",
    "# 14.0"
   ]
  },
  {
   "cell_type": "markdown",
   "metadata": {},
   "source": [
    "## Covariance\n",
    "\n",
    "In probability theory and statistics, covariance is a measure of the joint variability of two random variables.[1] If the greater values of one variable mainly correspond with the greater values of the other variable, and the same holds for the lesser values, (i.e., the variables tend to show similar behavior), the covariance is positive.\n",
    "\n",
    "Population covariance\n",
    "\n",
    "$$\\sigma(x, y) = \\frac{1}{n} \\sum^{n}_{i=1}{(x_i-\\mu_x)(y_i-\\mu_y)}$$ \n",
    "\n",
    "Sample covariance \n",
    "\n",
    "$$\\sigma(x, y) = \\frac{1}{n-1} \\sum^{n}_{i=1}{(x_i-\\bar{x})(y_i-\\bar{y})}$$\n",
    "\n",
    "where greek letter $\\sigma$ (sigma) represents covariance. Notice the population means are expressed as $\\mu_x, \\mu_y$ (in plain english; mu of x, mu of y) while the sample means are expressed as $\\bar{x}, \\bar{y}$ (x bar, y bar, or in plainer english; mean of x, mean of y).\n",
    "\n",
    "Reading sample covariance in plain english; *Covariance of x and y is the sum (represented here by capital sigma) of the index i, as i goes from one till the sample size n, multiplied by x index i minus the mean of x, multiplied by y index i minus the mean of y, divided by the sample size n minus one.*\n",
    "\n",
    "**Worked example**\n",
    "\n",
    "Given an MSc Data Science study group sample xsamp of 5 students with heights in cm of 167, 153, 184, 190 and 165 and final grades of 7.5, 8.9, 6.7, 5.8 and 7.2, what is the height by grade covariance in xsamp?"
   ]
  },
  {
   "cell_type": "code",
   "execution_count": 155,
   "metadata": {},
   "outputs": [
    {
     "data": {
      "text/plain": [
       "(5, 2)"
      ]
     },
     "execution_count": 155,
     "metadata": {},
     "output_type": "execute_result"
    }
   ],
   "source": [
    "hxgarr = np.array([[167,7.5], [153, 8.9], [184, 6.7], [190, 5.8], [165, 7.2]])\n",
    "hxgarr.shape\n",
    "# 5 rows, 2 rows\n",
    "(5, 2)"
   ]
  },
  {
   "cell_type": "code",
   "execution_count": 156,
   "metadata": {
    "scrolled": true
   },
   "outputs": [
    {
     "data": {
      "text/plain": [
       "array([[167. ,   7.5],\n",
       "       [153. ,   8.9],\n",
       "       [184. ,   6.7],\n",
       "       [190. ,   5.8],\n",
       "       [165. ,   7.2]])"
      ]
     },
     "execution_count": 156,
     "metadata": {},
     "output_type": "execute_result"
    }
   ],
   "source": [
    "hxgarr"
   ]
  },
  {
   "cell_type": "code",
   "execution_count": 184,
   "metadata": {},
   "outputs": [
    {
     "data": {
      "text/plain": [
       "array([[225.7  , -16.245],\n",
       "       [-16.245,   1.297]])"
      ]
     },
     "execution_count": 184,
     "metadata": {},
     "output_type": "execute_result"
    }
   ],
   "source": [
    "# Covariance matrix - see Covariance.ipynb\n",
    "np.cov(hxgarr[:,0], hxgarr[:,1])"
   ]
  },
  {
   "cell_type": "code",
   "execution_count": 168,
   "metadata": {},
   "outputs": [
    {
     "data": {
      "text/plain": [
       "array([167., 153., 184., 190., 165.])"
      ]
     },
     "execution_count": 168,
     "metadata": {},
     "output_type": "execute_result"
    }
   ],
   "source": [
    "# Column index 0 - Heights\n",
    "hxgarr[:,0]\n",
    "# array([167., 153., 184., 190., 165.])"
   ]
  },
  {
   "cell_type": "code",
   "execution_count": 181,
   "metadata": {},
   "outputs": [
    {
     "data": {
      "text/plain": [
       "array(225.7)"
      ]
     },
     "execution_count": 181,
     "metadata": {},
     "output_type": "execute_result"
    }
   ],
   "source": [
    "# Variance - heights\n",
    "np.cov(hxgarr[:,0])\n",
    "# array(225.7)"
   ]
  },
  {
   "cell_type": "code",
   "execution_count": 180,
   "metadata": {},
   "outputs": [
    {
     "data": {
      "text/plain": [
       "array([7.5, 8.9, 6.7, 5.8, 7.2])"
      ]
     },
     "execution_count": 180,
     "metadata": {},
     "output_type": "execute_result"
    }
   ],
   "source": [
    "# Column index 1 - Grades\n",
    "hxgarr[:,1]\n",
    "# array([7.5, 8.9, 6.7, 5.8, 7.2])"
   ]
  },
  {
   "cell_type": "code",
   "execution_count": 182,
   "metadata": {},
   "outputs": [
    {
     "data": {
      "text/plain": [
       "array(1.297)"
      ]
     },
     "execution_count": 182,
     "metadata": {},
     "output_type": "execute_result"
    }
   ],
   "source": [
    "# Variance - grades\n",
    "np.cov(hxgarr[:,1])\n",
    "# array(1.297)"
   ]
  },
  {
   "cell_type": "code",
   "execution_count": 179,
   "metadata": {},
   "outputs": [
    {
     "data": {
      "text/plain": [
       "array([[225.7  , -16.245],\n",
       "       [-16.245,   1.297]])"
      ]
     },
     "execution_count": 179,
     "metadata": {},
     "output_type": "execute_result"
    }
   ],
   "source": [
    "# Now, the numbers\n",
    "np.cov(hxgarr[:,0], hxgarr[:,1])\n",
    "# array([[225.7  , -16.245],\n",
    "#        [-16.245,   1.297]])\n",
    "# Variance of height = 225.7, while variance of grades = 1.297"
   ]
  },
  {
   "cell_type": "markdown",
   "metadata": {},
   "source": [
    "\n",
    "**Standard Deviation**: \n",
    "\n",
    "\n",
    "From Wikipedia - https://en.wikipedia.org/wiki/Standard_deviation\n",
    "\n",
    "In statistics, the standard deviation (SD, also represented by the lower case Greek letter sigma σ or the Latin letter s) is a measure that is used to quantify the amount of variation or dispersion of a set of data values.[1] A low standard deviation indicates that the data points tend to be close to the mean (also called the expected value) of the set, while a high standard deviation indicates that the data points are spread out over a wider range of values. \n",
    "\n",
    "The formula for the sample standard deviation is \n",
    "\n",
    "$$s = \\sqrt{\\frac{\\sum_{i=1}^N (x_i - \\overline{x})^2}{N-1} }$$\n",
    "\n",
    "Noting that sample standard deviation is the square route of variance:\n",
    "\n",
    "$$\\sigma^{_2} = \\frac{1}{n-1}\\sum^{n}_{i=1}(x_i -\\bar{x})^2$$"
   ]
  },
  {
   "cell_type": "code",
   "execution_count": 188,
   "metadata": {},
   "outputs": [
    {
     "data": {
      "text/plain": [
       "13.43726162579266"
      ]
     },
     "execution_count": 188,
     "metadata": {},
     "output_type": "execute_result"
    }
   ],
   "source": [
    "# standard deviation - heights\n",
    "# variance = 180.56\n",
    "# np.sqrt(180.56)\n",
    "# 13.43726162579266\n",
    "np.std(hxgarr[:,0])\n",
    "# 13.43726162579266"
   ]
  },
  {
   "cell_type": "code",
   "execution_count": 196,
   "metadata": {},
   "outputs": [
    {
     "data": {
      "text/plain": [
       "1.0186265262597476"
      ]
     },
     "execution_count": 196,
     "metadata": {},
     "output_type": "execute_result"
    }
   ],
   "source": [
    "# standard deviation - grades\n",
    "# variance = 1.297\n",
    "# np.var(hxgarr[:,1])\n",
    "# 1.0376000000000003\n",
    "# np.sqrt(1.0376000000000003)\n",
    "# 1.018626526259747\n",
    "np.std(hxgarr[:,1])\n",
    "# 1.0186265262597476"
   ]
  },
  {
   "cell_type": "code",
   "execution_count": 197,
   "metadata": {},
   "outputs": [
    {
     "data": {
      "image/png": "[encoded data removed]",
      "text/plain": [
       "<Figure size 432x288 with 1 Axes>"
      ]
     },
     "metadata": {},
     "output_type": "display_data"
    }
   ],
   "source": [
    "# First a look at the plotted data and best fit line to get a visual idea of standard deviation\n",
    "import matplotlib.pyplot as plt\n",
    "plt.plot(np.unique(hxgarr[:,0]), np.poly1d(np.polyfit(hxgarr[:,0], hxgarr[:,1], 1))(np.unique(hxgarr[:,0])))\n",
    "plt.scatter(hxgarr[:,0],hxgarr[:,1], c = 'Blue', s = 50, linewidth = 0, marker='s')\n",
    "plt.title(\"Height vs Grades\")\n",
    "plt.xlabel(\"Height\")\n",
    "plt.ylabel(\"Grades\")\n",
    "plt.show()"
   ]
  },
  {
   "cell_type": "code",
   "execution_count": null,
   "metadata": {},
   "outputs": [],
   "source": []
  }
 ],
 "metadata": {
  "kernelspec": {
   "display_name": "Python 3",
   "language": "python",
   "name": "python3"
  },
  "language_info": {
   "codemirror_mode": {
    "name": "ipython",
    "version": 3
   },
   "file_extension": ".py",
   "mimetype": "text/x-python",
   "name": "python",
   "nbconvert_exporter": "python",
   "pygments_lexer": "ipython3",
   "version": "3.6.5"
  }
 },
 "nbformat": 4,
 "nbformat_minor": 2
}
