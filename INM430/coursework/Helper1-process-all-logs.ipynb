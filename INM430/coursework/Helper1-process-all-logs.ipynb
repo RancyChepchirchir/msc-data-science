{
 "cells": [
  {
   "cell_type": "markdown",
   "metadata": {},
   "source": [
    "# Process all logs\n",
    "\n",
    "Process all logs in data/full-set, generating plots"
   ]
  },
  {
   "cell_type": "code",
   "execution_count": 44,
   "metadata": {},
   "outputs": [],
   "source": [
    "%matplotlib inline\n",
    "\n",
    "###########################\n",
    "## PROCESS ALL LOG FILES ##\n",
    "###########################\n",
    "\n",
    "# helper functions\n",
    "def getBiasVoltages(iBv):\n",
    "    # Expecting a byte value e.g. 99 cast as int (153)\n",
    "    FlMask = 0xF0 # mask for the flame voltage bias i.e. 11110000\n",
    "    FRshift = 4 # number of right shifts e.g. start with 0x99, end with 0x09\n",
    "    GMask = 0x0F # mask for the guard voltage bias, no need to shift\n",
    "    iFbv = (iBv & FlMask) >> FRshift \n",
    "    iGbv = iBv & GMask \n",
    "    return iFbv, iGbv\n",
    "\n",
    "def getAlarmGainSpikeCount(iEvent):\n",
    "    # Byte 6:  EVENT (MSB-LSB: Alarm\\Gain\\0\\Spike\\Count\\Count\\Count\\Count) -check\n",
    "    # Alarm = bit 7\n",
    "    # Gain = bit 6\n",
    "    # Spike = bit 4\n",
    "    # Count = bits 0,1,2,3\n",
    "    # Notes; count is a sequential 4 bit count, expected to be continuous and\n",
    "    # carry over o 15, restarting at 0. If any values are found to be missing, action\n",
    "    # might be required, e.g. linear interpolation to patch missing observations\n",
    "    AMask = 0x80 # 10000000\n",
    "    ARshift = 7\n",
    "    GMask = 0x40 # 01000000\n",
    "    GRshift = 6\n",
    "    SMask = 0x10 # 00010000\n",
    "    SRshift = 4\n",
    "    CMask = 0x0F # 00001111\n",
    "    # no shift required for count\n",
    "    Alarm = (iEvent & AMask) >> ARshift\n",
    "    Gain = (iEvent & GMask) >> GRshift\n",
    "    Spike = (iEvent & SMask) >> SRshift\n",
    "    Count = (iEvent & CMask)\n",
    "    return Alarm, Gain, Spike, Count\n",
    "\n",
    "def processLog(filePath, filename):\n",
    "    # expected return values are\n",
    "    # FlameA, FlameB, Guard, Flame A&B bias voltage, Alarm (true/false), Gain(true/false)\n",
    "    # Spike(true/false) and Count(4 bit running count)\n",
    "    import numpy as np\n",
    "    # vars\n",
    "    # expected record length\n",
    "    iRecLen = 12\n",
    "    # initialise empty return array\n",
    "    retarr = np.empty((0,9), dtype='uint8')\n",
    "\n",
    "    logfilename = filePath + filename\n",
    "    file = open(logfilename, \"r\")\n",
    "    for line in file:\n",
    "        line = line.rstrip()\n",
    "        if((len(line) == iRecLen) & (line.find(\" \") < 0)):\n",
    "            # FlameA, FlameB and Guard detector analogue readings\n",
    "            iFAv = int(line[0:2], 16)\n",
    "            iFBv = int(line[2:4], 16)\n",
    "            iG = int(line[4:6], 16)\n",
    "            iBv = int(line[6:8], 16)\n",
    "            iFbv, iGbv = getBiasVoltages(iBv)\n",
    "            iEvent = int(line[10:12], 16)\n",
    "            Alarm, Gain, Spike, Count = getAlarmGainSpikeCount(iEvent)            \n",
    "            retarr = np.append(retarr, [[iFAv, iFBv, iG, iFbv, iGbv, Alarm, Gain, Spike, Count]],axis = 0)\n",
    "    return retarr\n",
    "\n",
    "def getLogfiles(path, pattern):\n",
    "    # return a list of files\n",
    "    import glob\n",
    "    files = []\n",
    "    for name in glob.glob(path + pattern):\n",
    "        files.append(name[len(path):])\n",
    "    return files"
   ]
  },
  {
   "cell_type": "code",
   "execution_count": 57,
   "metadata": {},
   "outputs": [],
   "source": [
    "def plotFlamedata(farr):\n",
    "    # indices\n",
    "    FAidx = 0\n",
    "    FBidx = 1\n",
    "    Gidx = 2\n",
    "    # x axis time series array\n",
    "    iIdx = np.arange(1, myarr[:,0].size + 1, 1) # iIdx = np.arange(1, iGlfd.size + 1, 1)\n",
    "    plt.clf()\n",
    "    plt.figure(figsize=(18,8))\n",
    "    plt.plot(iIdx, farr[:,FAidx], label='FlameA')\n",
    "    plt.plot(iIdx, farr[:,FBidx], label='FlameB')\n",
    "    plt.plot(iIdx, farr[:,Gidx], label='Guard')\n",
    "    plt.xlabel('Time(ms)')\n",
    "    plt.ylabel('AD values')\n",
    "    plt.title(\"Flame data\")\n",
    "    plt.legend()\n",
    "    plt.show()    "
   ]
  },
  {
   "cell_type": "code",
   "execution_count": 59,
   "metadata": {},
   "outputs": [
    {
     "data": {
      "image/png": "[encoded data removed]",
      "text/plain": [
       "<Figure size 432x288 with 1 Axes>"
      ]
     },
     "metadata": {},
     "output_type": "display_data"
    },
    {
     "ename": "IndexError",
     "evalue": "too many indices for array",
     "output_type": "error",
     "traceback": [
      "\u001b[1;31m---------------------------------------------------------------------------\u001b[0m",
      "\u001b[1;31mIndexError\u001b[0m                                Traceback (most recent call last)",
      "\u001b[1;32m<ipython-input-59-94051bd48720>\u001b[0m in \u001b[0;36m<module>\u001b[1;34m()\u001b[0m\n\u001b[0;32m      6\u001b[0m     \u001b[1;31m# get data arrays\u001b[0m\u001b[1;33m\u001b[0m\u001b[1;33m\u001b[0m\u001b[0m\n\u001b[0;32m      7\u001b[0m     \u001b[0marr\u001b[0m \u001b[1;33m=\u001b[0m \u001b[0mprocessLog\u001b[0m\u001b[1;33m(\u001b[0m\u001b[0mpath\u001b[0m\u001b[1;33m,\u001b[0m \u001b[0mlog\u001b[0m\u001b[1;33m)\u001b[0m\u001b[1;33m\u001b[0m\u001b[0m\n\u001b[1;32m----> 8\u001b[1;33m     \u001b[0mplotFlamedata\u001b[0m\u001b[1;33m(\u001b[0m\u001b[0marr\u001b[0m\u001b[1;33m)\u001b[0m\u001b[1;33m\u001b[0m\u001b[0m\n\u001b[0m",
      "\u001b[1;32m<ipython-input-57-1cf6b853468d>\u001b[0m in \u001b[0;36mplotFlamedata\u001b[1;34m(farr)\u001b[0m\n\u001b[0;32m      5\u001b[0m     \u001b[0mGidx\u001b[0m \u001b[1;33m=\u001b[0m \u001b[1;36m2\u001b[0m\u001b[1;33m\u001b[0m\u001b[0m\n\u001b[0;32m      6\u001b[0m     \u001b[1;31m# x axis time series array\u001b[0m\u001b[1;33m\u001b[0m\u001b[1;33m\u001b[0m\u001b[0m\n\u001b[1;32m----> 7\u001b[1;33m     \u001b[0miIdx\u001b[0m \u001b[1;33m=\u001b[0m \u001b[0mnp\u001b[0m\u001b[1;33m.\u001b[0m\u001b[0marange\u001b[0m\u001b[1;33m(\u001b[0m\u001b[1;36m1\u001b[0m\u001b[1;33m,\u001b[0m \u001b[0mmyarr\u001b[0m\u001b[1;33m[\u001b[0m\u001b[1;33m:\u001b[0m\u001b[1;33m,\u001b[0m\u001b[1;36m0\u001b[0m\u001b[1;33m]\u001b[0m\u001b[1;33m.\u001b[0m\u001b[0msize\u001b[0m \u001b[1;33m+\u001b[0m \u001b[1;36m1\u001b[0m\u001b[1;33m,\u001b[0m \u001b[1;36m1\u001b[0m\u001b[1;33m)\u001b[0m \u001b[1;31m# iIdx = np.arange(1, iGlfd.size + 1, 1)\u001b[0m\u001b[1;33m\u001b[0m\u001b[0m\n\u001b[0m\u001b[0;32m      8\u001b[0m     \u001b[0mplt\u001b[0m\u001b[1;33m.\u001b[0m\u001b[0mclf\u001b[0m\u001b[1;33m(\u001b[0m\u001b[1;33m)\u001b[0m\u001b[1;33m\u001b[0m\u001b[0m\n\u001b[0;32m      9\u001b[0m     \u001b[0mplt\u001b[0m\u001b[1;33m.\u001b[0m\u001b[0mfigure\u001b[0m\u001b[1;33m(\u001b[0m\u001b[0mfigsize\u001b[0m\u001b[1;33m=\u001b[0m\u001b[1;33m(\u001b[0m\u001b[1;36m18\u001b[0m\u001b[1;33m,\u001b[0m\u001b[1;36m8\u001b[0m\u001b[1;33m)\u001b[0m\u001b[1;33m)\u001b[0m\u001b[1;33m\u001b[0m\u001b[0m\n",
      "\u001b[1;31mIndexError\u001b[0m: too many indices for array"
     ]
    }
   ],
   "source": [
    "path = \"data/full-set/\"\n",
    "pattern = \"*.log\"\n",
    "logs = getLogfiles(path, pattern)\n",
    "for log in logs:\n",
    "    # print(log)\n",
    "    # get data arrays\n",
    "    arr = processLog(path, log)\n",
    "    plotFlamedata(arr)"
   ]
  },
  {
   "cell_type": "code",
   "execution_count": null,
   "metadata": {},
   "outputs": [],
   "source": []
  }
 ],
 "metadata": {
  "kernelspec": {
   "display_name": "Python 3",
   "language": "python",
   "name": "python3"
  },
  "language_info": {
   "codemirror_mode": {
    "name": "ipython",
    "version": 3
   },
   "file_extension": ".py",
   "mimetype": "text/x-python",
   "name": "python",
   "nbconvert_exporter": "python",
   "pygments_lexer": "ipython3",
   "version": "3.6.5"
  }
 },
 "nbformat": 4,
 "nbformat_minor": 2
}
