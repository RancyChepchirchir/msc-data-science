{
 "cells": [
  {
   "cell_type": "markdown",
   "metadata": {},
   "source": [
    "# INM430 - Tiny DS Project Progress Report\n",
    "\n",
    "\n",
    "***\n",
    "\n",
    "** Student Name: ** _.... Write your name here ...._\n",
    "\n",
    "** Project Title:** _.... Write your project title here ...._\n",
    "\n",
    "***\n",
    "\n",
    "\n"
   ]
  },
  {
   "cell_type": "markdown",
   "metadata": {},
   "source": [
    "## Part-1: Data source and domain description (maximum 150 words):\n",
    "\n",
    "... Insert your text here ...\n",
    "***\n",
    "\n",
    "\n",
    "\n",
    "## Part-2: Analysis Strategy and Plans (maximum 200 words):\n",
    "\n",
    "... Insert your text here ...\n",
    "\n",
    "***\n",
    "***\n",
    "\n",
    "## Part-3: Initial investigations on the data sources (maximum 150 words): \n",
    "\n",
    "... Insert your text here ...\n",
    "\n",
    "***\n",
    "***\n",
    "\n",
    "## Part-4: Python code for initial investigations"
   ]
  },
  {
   "cell_type": "code",
   "execution_count": 2,
   "metadata": {
    "collapsed": false
   },
   "outputs": [],
   "source": [
    "# This cell is where you can copy + paste your Python code which loads your data and produces \n",
    "# When you press CTRL+Enter, this cell will execute and produce some output\n",
    "# You can develop your code in Spyder (or another IDE) and copy + paste over here\n",
    "\n",
    "# Step-1: Load your data\n",
    "# Step-2: Get an overview of the data features, some suggestions to look for:\n",
    "#         number of features, data types, any missing values?, \n",
    "#         any transformations needed?\n",
    "\n",
    "# Start with your import (s) here.\n",
    "\n",
    "# The following is essential to get your matplotlib plots inline, so do not miss this one if you have graphics.\n",
    "\n",
    "%matplotlib inline\n",
    "\n",
    "# Some usual imports here\n",
    "import csv as csv \n",
    "import numpy as np\n",
    "import pandas as pd\n",
    "\n",
    "# Continue here with your code\n",
    "\n"
   ]
  }
 ],
 "metadata": {
  "kernelspec": {
   "display_name": "Python 3",
   "language": "python",
   "name": "python3"
  },
  "language_info": {
   "codemirror_mode": {
    "name": "ipython",
    "version": 3
   },
   "file_extension": ".py",
   "mimetype": "text/x-python",
   "name": "python",
   "nbconvert_exporter": "python",
   "pygments_lexer": "ipython3",
   "version": "3.5.2"
  }
 },
 "nbformat": 4,
 "nbformat_minor": 0
}
